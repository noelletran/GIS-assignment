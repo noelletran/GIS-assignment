{
 "cells": [
  {
   "cell_type": "markdown",
   "metadata": {},
   "source": [
    "## Welcome to your notebook.\n"
   ]
  },
  {
   "cell_type": "markdown",
   "metadata": {},
   "source": [
    "#### Run this cell to connect to your GIS and get started:"
   ]
  },
  {
   "cell_type": "code",
   "execution_count": 1,
   "metadata": {},
   "outputs": [],
   "source": [
    "from arcgis.gis import GIS\n",
    "gis = GIS(\"home\")"
   ]
  },
  {
   "cell_type": "markdown",
   "metadata": {},
   "source": [
    "#### Now you are ready to start!"
   ]
  },
  {
   "cell_type": "markdown",
   "metadata": {},
   "source": [
    "## Lab Assignment 2\n",
    "### Noelle Tran\n",
    "### 210029915\n",
    "### GitHub link: https://github.com/noelletran/GIS-assignment"
   ]
  },
  {
   "cell_type": "markdown",
   "metadata": {},
   "source": [
    "### Part 1: Python Basics"
   ]
  },
  {
   "cell_type": "markdown",
   "metadata": {},
   "source": [
    "#### Task 1"
   ]
  },
  {
   "cell_type": "code",
   "execution_count": 1,
   "metadata": {},
   "outputs": [
    {
     "name": "stdout",
     "output_type": "stream",
     "text": [
      "93\n",
      "31.0\n",
      "93 is divisible by 3\n"
     ]
    }
   ],
   "source": [
    "value = 93\n",
    "print(value)\n",
    "div = value / 3\n",
    "print(div)\n",
    "\n",
    "if div.is_integer()== True:\n",
    "    print(value, \"is divisible by 3\")\n",
    "else:\n",
    "    print(value, \"is not divisible by 3\")\n"
   ]
  },
  {
   "cell_type": "markdown",
   "metadata": {},
   "source": [
    "##### In the cell above a random number is chosen to be used in the if else statement, which is assigned with a variable called \"value\". This variable \"value\" is then divided by three and is assigned the variable name \"div\". Then an if else statement is used to see if \"div\" is an integer/ a whole number. If the statement returns true, then text is printed saying that the value is divisuble by three, and if the statement returns false, then text is printed saying the value is not divisible by three. "
   ]
  },
  {
   "cell_type": "markdown",
   "metadata": {},
   "source": [
    "#### Task 2"
   ]
  },
  {
   "cell_type": "code",
   "execution_count": 29,
   "metadata": {},
   "outputs": [
    {
     "name": "stdout",
     "output_type": "stream",
     "text": [
      "pear is acceptable\n"
     ]
    }
   ],
   "source": [
    "fruit_type = [\"apple\", \"orange\", \"pear\", \"kiwi\", \"strawberry\"]\n",
    "fruit = \"pear\"\n",
    "\n",
    "if fruit in fruit_type:\n",
    "    print(fruit, \"is acceptable\")\n",
    "else:\n",
    "    print(fruit, \"is not acceptable\")"
   ]
  },
  {
   "cell_type": "markdown",
   "metadata": {},
   "source": [
    "##### In the cell above, fruit_type creates a list for the acceptable fruits for the if else statement. The variable \"fruit\" is where the user can type in a type of fruit. The if else statement shows that if the fruit that the user typed in (\"fruit\") is in the fruit_type list, then the return statement will be that the given fruit is acceptable. If \"fruit\" is not in the fruit_type list, then the return statement will be that the given fruit is not acceptable."
   ]
  },
  {
   "cell_type": "markdown",
   "metadata": {},
   "source": [
    "#### Task 3"
   ]
  },
  {
   "cell_type": "code",
   "execution_count": 1,
   "metadata": {},
   "outputs": [],
   "source": [
    "import math"
   ]
  },
  {
   "cell_type": "code",
   "execution_count": 2,
   "metadata": {},
   "outputs": [],
   "source": [
    "def haversine (A, B):\n",
    "    A = [lata, lona]\n",
    "    B = [latb, lonb]\n",
    "    R = 6371\n",
    "    \n",
    "    #degrees to radians\n",
    "    #Radians = Degrees * PI / 180\n",
    "    #convert latitude and longitude to radians\n",
    "    latA = lata * math.pi / 180\n",
    "    lonA = lona * math.pi / 180\n",
    "    latB = latb * math.pi / 180\n",
    "    lonB - lonb * math.pi / 180\n",
    "    \n",
    "    a = pow(math.sin(latB - latA/2), 2) + math.cos(latA) * math.cos(latB) * pow(math.sin(lonB - lonA/2), 2)\n",
    "    c = 2 * (math.atan(sqrt(a), sqrt(1-a)), 2)\n",
    "    d = R * c"
   ]
  },
  {
   "cell_type": "markdown",
   "metadata": {},
   "source": [
    "##### In the cell above, a function is created called haversine and has two parameters- A and B. A and B were created which represent lists where the coordinates are stored. First the latitude and longitudes needed to be converted to radians as they are in degrees. A new variable was given to each converted latitude or longitude. Then these were substituted into the equation to solve for the distance between two coordinates."
   ]
  },
  {
   "cell_type": "markdown",
   "metadata": {},
   "source": [
    "### Part 2: Pandas and NumPy"
   ]
  },
  {
   "cell_type": "markdown",
   "metadata": {},
   "source": [
    "#### Question 1"
   ]
  },
  {
   "cell_type": "code",
   "execution_count": 2,
   "metadata": {},
   "outputs": [],
   "source": [
    "import numpy as np\n",
    "import pandas as pd"
   ]
  },
  {
   "cell_type": "markdown",
   "metadata": {},
   "source": [
    "##### This imports NumPy and Pandas so that they can be utilized."
   ]
  },
  {
   "cell_type": "code",
   "execution_count": 4,
   "metadata": {
    "scrolled": true
   },
   "outputs": [
    {
     "data": {
      "text/html": [
       "<div>\n",
       "<style scoped>\n",
       "    .dataframe tbody tr th:only-of-type {\n",
       "        vertical-align: middle;\n",
       "    }\n",
       "\n",
       "    .dataframe tbody tr th {\n",
       "        vertical-align: top;\n",
       "    }\n",
       "\n",
       "    .dataframe thead th {\n",
       "        text-align: right;\n",
       "    }\n",
       "</style>\n",
       "<table border=\"1\" class=\"dataframe\">\n",
       "  <thead>\n",
       "    <tr style=\"text-align: right;\">\n",
       "      <th></th>\n",
       "      <th>fid</th>\n",
       "      <th>OBJECTID</th>\n",
       "      <th>Inventory_</th>\n",
       "      <th>Species</th>\n",
       "      <th>DBH</th>\n",
       "      <th>Condition</th>\n",
       "      <th>TreeHeight</th>\n",
       "      <th>CrownWidth</th>\n",
       "      <th>CrownWid_1</th>\n",
       "      <th>CollectedB</th>\n",
       "      <th>...</th>\n",
       "      <th>Genus</th>\n",
       "      <th>Common_nam</th>\n",
       "      <th>Genus_spec</th>\n",
       "      <th>Functional</th>\n",
       "      <th>Size</th>\n",
       "      <th>Native</th>\n",
       "      <th>Edible</th>\n",
       "      <th>Nuisance</th>\n",
       "      <th>Origin</th>\n",
       "      <th>Species_fa</th>\n",
       "    </tr>\n",
       "  </thead>\n",
       "  <tbody>\n",
       "    <tr>\n",
       "      <th>0</th>\n",
       "      <td>1</td>\n",
       "      <td>426</td>\n",
       "      <td>2017/05/09</td>\n",
       "      <td>PSME</td>\n",
       "      <td>37.4</td>\n",
       "      <td>Fair</td>\n",
       "      <td>105.0</td>\n",
       "      <td>44.0</td>\n",
       "      <td>57.0</td>\n",
       "      <td>staff</td>\n",
       "      <td>...</td>\n",
       "      <td>Pseudotsuga</td>\n",
       "      <td>Douglas-fir</td>\n",
       "      <td>Pseudotsuga menziesii</td>\n",
       "      <td>CE</td>\n",
       "      <td>L</td>\n",
       "      <td>Yes</td>\n",
       "      <td>NaN</td>\n",
       "      <td>NaN</td>\n",
       "      <td>North America - from British Columbia south to...</td>\n",
       "      <td>Bracts on cones look like a mouse's feet and t...</td>\n",
       "    </tr>\n",
       "    <tr>\n",
       "      <th>1</th>\n",
       "      <td>2</td>\n",
       "      <td>427</td>\n",
       "      <td>2017/05/09</td>\n",
       "      <td>PSME</td>\n",
       "      <td>32.5</td>\n",
       "      <td>Fair</td>\n",
       "      <td>94.0</td>\n",
       "      <td>49.0</td>\n",
       "      <td>45.0</td>\n",
       "      <td>staff</td>\n",
       "      <td>...</td>\n",
       "      <td>Pseudotsuga</td>\n",
       "      <td>Douglas-fir</td>\n",
       "      <td>Pseudotsuga menziesii</td>\n",
       "      <td>CE</td>\n",
       "      <td>L</td>\n",
       "      <td>Yes</td>\n",
       "      <td>NaN</td>\n",
       "      <td>NaN</td>\n",
       "      <td>North America - from British Columbia south to...</td>\n",
       "      <td>Bracts on cones look like a mouse's feet and t...</td>\n",
       "    </tr>\n",
       "    <tr>\n",
       "      <th>2</th>\n",
       "      <td>3</td>\n",
       "      <td>428</td>\n",
       "      <td>2017/05/09</td>\n",
       "      <td>CRLA</td>\n",
       "      <td>9.7</td>\n",
       "      <td>Fair</td>\n",
       "      <td>23.0</td>\n",
       "      <td>28.0</td>\n",
       "      <td>27.0</td>\n",
       "      <td>staff</td>\n",
       "      <td>...</td>\n",
       "      <td>Crataegus</td>\n",
       "      <td>Lavalle hawthorn</td>\n",
       "      <td>Crataegus x lavalleei</td>\n",
       "      <td>BD</td>\n",
       "      <td>S</td>\n",
       "      <td>No</td>\n",
       "      <td>NaN</td>\n",
       "      <td>NaN</td>\n",
       "      <td>North America - a hybrid between a Mexican and...</td>\n",
       "      <td>Like most hawthorns, the tree has stout thorns...</td>\n",
       "    </tr>\n",
       "    <tr>\n",
       "      <th>3</th>\n",
       "      <td>4</td>\n",
       "      <td>429</td>\n",
       "      <td>2017/05/09</td>\n",
       "      <td>QURU</td>\n",
       "      <td>10.3</td>\n",
       "      <td>Poor</td>\n",
       "      <td>28.0</td>\n",
       "      <td>38.0</td>\n",
       "      <td>31.0</td>\n",
       "      <td>staff</td>\n",
       "      <td>...</td>\n",
       "      <td>Quercus</td>\n",
       "      <td>northern red oak</td>\n",
       "      <td>Quercus rubra</td>\n",
       "      <td>BD</td>\n",
       "      <td>L</td>\n",
       "      <td>No</td>\n",
       "      <td>NaN</td>\n",
       "      <td>NaN</td>\n",
       "      <td>North America - eastern Canada and eastern USA...</td>\n",
       "      <td>Acorns take two years to mature and are an imp...</td>\n",
       "    </tr>\n",
       "    <tr>\n",
       "      <th>4</th>\n",
       "      <td>5</td>\n",
       "      <td>430</td>\n",
       "      <td>2017/05/09</td>\n",
       "      <td>PSME</td>\n",
       "      <td>33.2</td>\n",
       "      <td>Fair</td>\n",
       "      <td>102.0</td>\n",
       "      <td>43.0</td>\n",
       "      <td>44.0</td>\n",
       "      <td>staff</td>\n",
       "      <td>...</td>\n",
       "      <td>Pseudotsuga</td>\n",
       "      <td>Douglas-fir</td>\n",
       "      <td>Pseudotsuga menziesii</td>\n",
       "      <td>CE</td>\n",
       "      <td>L</td>\n",
       "      <td>Yes</td>\n",
       "      <td>NaN</td>\n",
       "      <td>NaN</td>\n",
       "      <td>North America - from British Columbia south to...</td>\n",
       "      <td>Bracts on cones look like a mouse's feet and t...</td>\n",
       "    </tr>\n",
       "    <tr>\n",
       "      <th>5</th>\n",
       "      <td>6</td>\n",
       "      <td>431</td>\n",
       "      <td>2017/05/09</td>\n",
       "      <td>PSME</td>\n",
       "      <td>32.1</td>\n",
       "      <td>Fair</td>\n",
       "      <td>95.0</td>\n",
       "      <td>35.0</td>\n",
       "      <td>39.0</td>\n",
       "      <td>staff</td>\n",
       "      <td>...</td>\n",
       "      <td>Pseudotsuga</td>\n",
       "      <td>Douglas-fir</td>\n",
       "      <td>Pseudotsuga menziesii</td>\n",
       "      <td>CE</td>\n",
       "      <td>L</td>\n",
       "      <td>Yes</td>\n",
       "      <td>NaN</td>\n",
       "      <td>NaN</td>\n",
       "      <td>North America - from British Columbia south to...</td>\n",
       "      <td>Bracts on cones look like a mouse's feet and t...</td>\n",
       "    </tr>\n",
       "    <tr>\n",
       "      <th>6</th>\n",
       "      <td>7</td>\n",
       "      <td>432</td>\n",
       "      <td>2017/05/09</td>\n",
       "      <td>PSME</td>\n",
       "      <td>28.4</td>\n",
       "      <td>Fair</td>\n",
       "      <td>103.0</td>\n",
       "      <td>40.0</td>\n",
       "      <td>40.0</td>\n",
       "      <td>staff</td>\n",
       "      <td>...</td>\n",
       "      <td>Pseudotsuga</td>\n",
       "      <td>Douglas-fir</td>\n",
       "      <td>Pseudotsuga menziesii</td>\n",
       "      <td>CE</td>\n",
       "      <td>L</td>\n",
       "      <td>Yes</td>\n",
       "      <td>NaN</td>\n",
       "      <td>NaN</td>\n",
       "      <td>North America - from British Columbia south to...</td>\n",
       "      <td>Bracts on cones look like a mouse's feet and t...</td>\n",
       "    </tr>\n",
       "    <tr>\n",
       "      <th>7</th>\n",
       "      <td>8</td>\n",
       "      <td>433</td>\n",
       "      <td>2017/05/09</td>\n",
       "      <td>PSME</td>\n",
       "      <td>27.2</td>\n",
       "      <td>Fair</td>\n",
       "      <td>105.0</td>\n",
       "      <td>45.0</td>\n",
       "      <td>29.0</td>\n",
       "      <td>staff</td>\n",
       "      <td>...</td>\n",
       "      <td>Pseudotsuga</td>\n",
       "      <td>Douglas-fir</td>\n",
       "      <td>Pseudotsuga menziesii</td>\n",
       "      <td>CE</td>\n",
       "      <td>L</td>\n",
       "      <td>Yes</td>\n",
       "      <td>NaN</td>\n",
       "      <td>NaN</td>\n",
       "      <td>North America - from British Columbia south to...</td>\n",
       "      <td>Bracts on cones look like a mouse's feet and t...</td>\n",
       "    </tr>\n",
       "    <tr>\n",
       "      <th>8</th>\n",
       "      <td>9</td>\n",
       "      <td>434</td>\n",
       "      <td>2017/05/09</td>\n",
       "      <td>PSME</td>\n",
       "      <td>35.2</td>\n",
       "      <td>Fair</td>\n",
       "      <td>97.0</td>\n",
       "      <td>56.0</td>\n",
       "      <td>45.0</td>\n",
       "      <td>staff</td>\n",
       "      <td>...</td>\n",
       "      <td>Pseudotsuga</td>\n",
       "      <td>Douglas-fir</td>\n",
       "      <td>Pseudotsuga menziesii</td>\n",
       "      <td>CE</td>\n",
       "      <td>L</td>\n",
       "      <td>Yes</td>\n",
       "      <td>NaN</td>\n",
       "      <td>NaN</td>\n",
       "      <td>North America - from British Columbia south to...</td>\n",
       "      <td>Bracts on cones look like a mouse's feet and t...</td>\n",
       "    </tr>\n",
       "    <tr>\n",
       "      <th>9</th>\n",
       "      <td>10</td>\n",
       "      <td>435</td>\n",
       "      <td>2017/05/09</td>\n",
       "      <td>PSME</td>\n",
       "      <td>32.4</td>\n",
       "      <td>Fair</td>\n",
       "      <td>112.0</td>\n",
       "      <td>35.0</td>\n",
       "      <td>33.0</td>\n",
       "      <td>staff</td>\n",
       "      <td>...</td>\n",
       "      <td>Pseudotsuga</td>\n",
       "      <td>Douglas-fir</td>\n",
       "      <td>Pseudotsuga menziesii</td>\n",
       "      <td>CE</td>\n",
       "      <td>L</td>\n",
       "      <td>Yes</td>\n",
       "      <td>NaN</td>\n",
       "      <td>NaN</td>\n",
       "      <td>North America - from British Columbia south to...</td>\n",
       "      <td>Bracts on cones look like a mouse's feet and t...</td>\n",
       "    </tr>\n",
       "  </tbody>\n",
       "</table>\n",
       "<p>10 rows × 40 columns</p>\n",
       "</div>"
      ],
      "text/plain": [
       "   fid  OBJECTID  Inventory_ Species   DBH Condition  TreeHeight  CrownWidth  \\\n",
       "0    1       426  2017/05/09    PSME  37.4      Fair       105.0        44.0   \n",
       "1    2       427  2017/05/09    PSME  32.5      Fair        94.0        49.0   \n",
       "2    3       428  2017/05/09    CRLA   9.7      Fair        23.0        28.0   \n",
       "3    4       429  2017/05/09    QURU  10.3      Poor        28.0        38.0   \n",
       "4    5       430  2017/05/09    PSME  33.2      Fair       102.0        43.0   \n",
       "5    6       431  2017/05/09    PSME  32.1      Fair        95.0        35.0   \n",
       "6    7       432  2017/05/09    PSME  28.4      Fair       103.0        40.0   \n",
       "7    8       433  2017/05/09    PSME  27.2      Fair       105.0        45.0   \n",
       "8    9       434  2017/05/09    PSME  35.2      Fair        97.0        56.0   \n",
       "9   10       435  2017/05/09    PSME  32.4      Fair       112.0        35.0   \n",
       "\n",
       "   CrownWid_1 CollectedB  ...        Genus        Common_nam  \\\n",
       "0        57.0      staff  ...  Pseudotsuga       Douglas-fir   \n",
       "1        45.0      staff  ...  Pseudotsuga       Douglas-fir   \n",
       "2        27.0      staff  ...    Crataegus  Lavalle hawthorn   \n",
       "3        31.0      staff  ...      Quercus  northern red oak   \n",
       "4        44.0      staff  ...  Pseudotsuga       Douglas-fir   \n",
       "5        39.0      staff  ...  Pseudotsuga       Douglas-fir   \n",
       "6        40.0      staff  ...  Pseudotsuga       Douglas-fir   \n",
       "7        29.0      staff  ...  Pseudotsuga       Douglas-fir   \n",
       "8        45.0      staff  ...  Pseudotsuga       Douglas-fir   \n",
       "9        33.0      staff  ...  Pseudotsuga       Douglas-fir   \n",
       "\n",
       "              Genus_spec Functional Size Native Edible Nuisance  \\\n",
       "0  Pseudotsuga menziesii         CE    L    Yes    NaN      NaN   \n",
       "1  Pseudotsuga menziesii         CE    L    Yes    NaN      NaN   \n",
       "2  Crataegus x lavalleei         BD    S     No    NaN      NaN   \n",
       "3          Quercus rubra         BD    L     No    NaN      NaN   \n",
       "4  Pseudotsuga menziesii         CE    L    Yes    NaN      NaN   \n",
       "5  Pseudotsuga menziesii         CE    L    Yes    NaN      NaN   \n",
       "6  Pseudotsuga menziesii         CE    L    Yes    NaN      NaN   \n",
       "7  Pseudotsuga menziesii         CE    L    Yes    NaN      NaN   \n",
       "8  Pseudotsuga menziesii         CE    L    Yes    NaN      NaN   \n",
       "9  Pseudotsuga menziesii         CE    L    Yes    NaN      NaN   \n",
       "\n",
       "                                              Origin  \\\n",
       "0  North America - from British Columbia south to...   \n",
       "1  North America - from British Columbia south to...   \n",
       "2  North America - a hybrid between a Mexican and...   \n",
       "3  North America - eastern Canada and eastern USA...   \n",
       "4  North America - from British Columbia south to...   \n",
       "5  North America - from British Columbia south to...   \n",
       "6  North America - from British Columbia south to...   \n",
       "7  North America - from British Columbia south to...   \n",
       "8  North America - from British Columbia south to...   \n",
       "9  North America - from British Columbia south to...   \n",
       "\n",
       "                                          Species_fa  \n",
       "0  Bracts on cones look like a mouse's feet and t...  \n",
       "1  Bracts on cones look like a mouse's feet and t...  \n",
       "2  Like most hawthorns, the tree has stout thorns...  \n",
       "3  Acorns take two years to mature and are an imp...  \n",
       "4  Bracts on cones look like a mouse's feet and t...  \n",
       "5  Bracts on cones look like a mouse's feet and t...  \n",
       "6  Bracts on cones look like a mouse's feet and t...  \n",
       "7  Bracts on cones look like a mouse's feet and t...  \n",
       "8  Bracts on cones look like a mouse's feet and t...  \n",
       "9  Bracts on cones look like a mouse's feet and t...  \n",
       "\n",
       "[10 rows x 40 columns]"
      ]
     },
     "execution_count": 4,
     "metadata": {},
     "output_type": "execute_result"
    }
   ],
   "source": [
    "trees = pd.read_csv('/arcgis/home/portland_park_trees.csv', sep=\",\", header=0, encoding=\"ISO-8859-1\")\n",
    "trees.head(10)"
   ]
  },
  {
   "cell_type": "markdown",
   "metadata": {},
   "source": [
    "##### This reads the dataframe and names it \"trees\"."
   ]
  },
  {
   "cell_type": "code",
   "execution_count": 5,
   "metadata": {},
   "outputs": [
    {
     "data": {
      "text/plain": [
       "(5675, 40)"
      ]
     },
     "execution_count": 5,
     "metadata": {},
     "output_type": "execute_result"
    }
   ],
   "source": [
    "tree_genus = trees[(trees[\"Genus\"] == \"Quercus\") | (trees[\"Genus\"] == \"Acer\")]\n",
    "tree_genus.shape"
   ]
  },
  {
   "cell_type": "markdown",
   "metadata": {},
   "source": [
    "##### In the cell above, the subset tree_genus was created to just include the trees from the quercus and acer genus. Then the .shape function was used to get the number of rows and columns for this new variable. The quercus and acer genus have a total of 5675 trees in this data set."
   ]
  },
  {
   "cell_type": "markdown",
   "metadata": {},
   "source": [
    "##### Question 2"
   ]
  },
  {
   "cell_type": "code",
   "execution_count": 5,
   "metadata": {},
   "outputs": [
    {
     "data": {
      "text/plain": [
       "(124, 40)"
      ]
     },
     "execution_count": 5,
     "metadata": {},
     "output_type": "execute_result"
    }
   ],
   "source": [
    "tree_genusdia = trees[trees[\"DBH\"] > 50]\n",
    "tg = tree_genusdia[(tree_genusdia[\"Genus\"] == \"Quercus\") | (tree_genusdia[\"Genus\"] == \"Acer\")]\n",
    "tg.shape"
   ]
  },
  {
   "cell_type": "markdown",
   "metadata": {},
   "source": [
    "##### In the cell above, the trees with a DBH greater than 50 were allocated to the tree_genusdia subset. Then, new conditions were given to the tree_genusdia subset, just selecting for trees with a genus of quercus or acer, which created a new subset called \"tg\". Then the shape function was used to find the number of rows and columns for this subset, and resulted in 124 trees being of either the quercus or acer genus and having a DBH greater than 50."
   ]
  },
  {
   "cell_type": "markdown",
   "metadata": {},
   "source": [
    "##### Question 3"
   ]
  },
  {
   "cell_type": "code",
   "execution_count": 9,
   "metadata": {},
   "outputs": [],
   "source": [
    "tree_qaf = trees[(trees[\"Genus\"] == \"Quercus\") | (trees[\"Genus\"] == \"Acer\") | (trees[\"Genus\"] == \"Fraxinus\")]"
   ]
  },
  {
   "cell_type": "code",
   "execution_count": 10,
   "metadata": {},
   "outputs": [
    {
     "name": "stdout",
     "output_type": "stream",
     "text": [
      "23.56823839157492\n",
      "18.419085331846066\n",
      "11.033609693877551\n"
     ]
    }
   ],
   "source": [
    "quercus = tree_qaf[tree_qaf[\"Genus\"] == \"Quercus\"]\n",
    "qm = (quercus[\"DBH\"]).mean()\n",
    "print(qm)\n",
    "\n",
    "acer = tree_qaf[tree_qaf[\"Genus\"] == \"Acer\"]\n",
    "am = (acer[\"DBH\"]).mean()\n",
    "print(am)\n",
    "\n",
    "fraxinus = tree_qaf[tree_qaf[\"Genus\"] == \"Fraxinus\"]\n",
    "fm = (fraxinus[\"DBH\"]).mean()\n",
    "print(fm)"
   ]
  },
  {
   "cell_type": "markdown",
   "metadata": {},
   "source": [
    "##### In the cell above, a new subset was created to include tree genuses of the selected trees. Then this was used to created individual subsets of each genus. Then the mean DBH of each genus was stored in a variable (qm, am, or fm), where the mean was found using the .mean() function. These were then all printed. The mean DBH for the quercus genus is 23.57, the mean DBH for the acer genus is 18.42, and then mean DBH for the fraxinus genus is 11.03."
   ]
  },
  {
   "cell_type": "markdown",
   "metadata": {},
   "source": [
    "#### Question 4"
   ]
  },
  {
   "cell_type": "code",
   "execution_count": 14,
   "metadata": {},
   "outputs": [
    {
     "name": "stdout",
     "output_type": "stream",
     "text": [
      "44\n"
     ]
    }
   ],
   "source": [
    "species = acer[\"Genus_spec\"].count()\n",
    "print(species)"
   ]
  },
  {
   "cell_type": "markdown",
   "metadata": {},
   "source": [
    "##### In the cell above, the .count() function was used to count the number of different species of the Acer genus in the data set. The Acer genus has 44 species."
   ]
  },
  {
   "cell_type": "markdown",
   "metadata": {},
   "source": [
    "#### Question 5"
   ]
  },
  {
   "cell_type": "code",
   "execution_count": 3,
   "metadata": {},
   "outputs": [
    {
     "data": {
      "text/html": [
       "<div>\n",
       "<style scoped>\n",
       "    .dataframe tbody tr th:only-of-type {\n",
       "        vertical-align: middle;\n",
       "    }\n",
       "\n",
       "    .dataframe tbody tr th {\n",
       "        vertical-align: top;\n",
       "    }\n",
       "\n",
       "    .dataframe thead th {\n",
       "        text-align: right;\n",
       "    }\n",
       "</style>\n",
       "<table border=\"1\" class=\"dataframe\">\n",
       "  <thead>\n",
       "    <tr style=\"text-align: right;\">\n",
       "      <th></th>\n",
       "      <th>city</th>\n",
       "      <th>country</th>\n",
       "      <th>pop</th>\n",
       "      <th>lat</th>\n",
       "      <th>lon</th>\n",
       "      <th>capital</th>\n",
       "    </tr>\n",
       "  </thead>\n",
       "  <tbody>\n",
       "    <tr>\n",
       "      <th>0</th>\n",
       "      <td>'Abasan al-Jadidah</td>\n",
       "      <td>Palestine</td>\n",
       "      <td>5629</td>\n",
       "      <td>31.31</td>\n",
       "      <td>34.34</td>\n",
       "      <td>0</td>\n",
       "    </tr>\n",
       "    <tr>\n",
       "      <th>1</th>\n",
       "      <td>'Abasan al-Kabirah</td>\n",
       "      <td>Palestine</td>\n",
       "      <td>18999</td>\n",
       "      <td>31.32</td>\n",
       "      <td>34.35</td>\n",
       "      <td>0</td>\n",
       "    </tr>\n",
       "    <tr>\n",
       "      <th>2</th>\n",
       "      <td>'Abdul Hakim</td>\n",
       "      <td>Pakistan</td>\n",
       "      <td>47788</td>\n",
       "      <td>30.55</td>\n",
       "      <td>72.11</td>\n",
       "      <td>0</td>\n",
       "    </tr>\n",
       "    <tr>\n",
       "      <th>3</th>\n",
       "      <td>'Abdullah-as-Salam</td>\n",
       "      <td>Kuwait</td>\n",
       "      <td>21817</td>\n",
       "      <td>29.36</td>\n",
       "      <td>47.98</td>\n",
       "      <td>0</td>\n",
       "    </tr>\n",
       "    <tr>\n",
       "      <th>4</th>\n",
       "      <td>'Abud</td>\n",
       "      <td>Palestine</td>\n",
       "      <td>2456</td>\n",
       "      <td>32.03</td>\n",
       "      <td>35.07</td>\n",
       "      <td>0</td>\n",
       "    </tr>\n",
       "  </tbody>\n",
       "</table>\n",
       "</div>"
      ],
      "text/plain": [
       "                 city    country    pop    lat    lon  capital\n",
       "0  'Abasan al-Jadidah  Palestine   5629  31.31  34.34        0\n",
       "1  'Abasan al-Kabirah  Palestine  18999  31.32  34.35        0\n",
       "2        'Abdul Hakim   Pakistan  47788  30.55  72.11        0\n",
       "3  'Abdullah-as-Salam     Kuwait  21817  29.36  47.98        0\n",
       "4               'Abud  Palestine   2456  32.03  35.07        0"
      ]
     },
     "execution_count": 3,
     "metadata": {},
     "output_type": "execute_result"
    }
   ],
   "source": [
    "cities_df = pd.read_csv('/arcgis/home/world_cities.csv', sep=\",\", header=0, encoding=\"ISO-8859-1\")\n",
    "cities_df.head()"
   ]
  },
  {
   "cell_type": "markdown",
   "metadata": {},
   "source": [
    "##### This cell above reads the dataframe, assigns it the name \"cities_df\", and produces the first 5 rows using the .head() function. "
   ]
  },
  {
   "cell_type": "code",
   "execution_count": 102,
   "metadata": {},
   "outputs": [
    {
     "data": {
      "text/html": [
       "<div>\n",
       "<style scoped>\n",
       "    .dataframe tbody tr th:only-of-type {\n",
       "        vertical-align: middle;\n",
       "    }\n",
       "\n",
       "    .dataframe tbody tr th {\n",
       "        vertical-align: top;\n",
       "    }\n",
       "\n",
       "    .dataframe thead th {\n",
       "        text-align: right;\n",
       "    }\n",
       "</style>\n",
       "<table border=\"1\" class=\"dataframe\">\n",
       "  <thead>\n",
       "    <tr style=\"text-align: right;\">\n",
       "      <th></th>\n",
       "      <th>city</th>\n",
       "      <th>country</th>\n",
       "      <th>pop</th>\n",
       "      <th>lat</th>\n",
       "      <th>lon</th>\n",
       "      <th>capital</th>\n",
       "      <th>pop_M</th>\n",
       "    </tr>\n",
       "  </thead>\n",
       "  <tbody>\n",
       "    <tr>\n",
       "      <th>0</th>\n",
       "      <td>'Abasan al-Jadidah</td>\n",
       "      <td>Palestine</td>\n",
       "      <td>5629</td>\n",
       "      <td>31.31</td>\n",
       "      <td>34.34</td>\n",
       "      <td>0</td>\n",
       "      <td>5629</td>\n",
       "    </tr>\n",
       "    <tr>\n",
       "      <th>1</th>\n",
       "      <td>'Abasan al-Kabirah</td>\n",
       "      <td>Palestine</td>\n",
       "      <td>18999</td>\n",
       "      <td>31.32</td>\n",
       "      <td>34.35</td>\n",
       "      <td>0</td>\n",
       "      <td>18999</td>\n",
       "    </tr>\n",
       "    <tr>\n",
       "      <th>2</th>\n",
       "      <td>'Abdul Hakim</td>\n",
       "      <td>Pakistan</td>\n",
       "      <td>47788</td>\n",
       "      <td>30.55</td>\n",
       "      <td>72.11</td>\n",
       "      <td>0</td>\n",
       "      <td>47788</td>\n",
       "    </tr>\n",
       "    <tr>\n",
       "      <th>3</th>\n",
       "      <td>'Abdullah-as-Salam</td>\n",
       "      <td>Kuwait</td>\n",
       "      <td>21817</td>\n",
       "      <td>29.36</td>\n",
       "      <td>47.98</td>\n",
       "      <td>0</td>\n",
       "      <td>21817</td>\n",
       "    </tr>\n",
       "    <tr>\n",
       "      <th>4</th>\n",
       "      <td>'Abud</td>\n",
       "      <td>Palestine</td>\n",
       "      <td>2456</td>\n",
       "      <td>32.03</td>\n",
       "      <td>35.07</td>\n",
       "      <td>0</td>\n",
       "      <td>2456</td>\n",
       "    </tr>\n",
       "    <tr>\n",
       "      <th>5</th>\n",
       "      <td>'Abwein</td>\n",
       "      <td>Palestine</td>\n",
       "      <td>3434</td>\n",
       "      <td>32.03</td>\n",
       "      <td>35.20</td>\n",
       "      <td>0</td>\n",
       "      <td>3434</td>\n",
       "    </tr>\n",
       "    <tr>\n",
       "      <th>6</th>\n",
       "      <td>'Adadlay</td>\n",
       "      <td>Somalia</td>\n",
       "      <td>9198</td>\n",
       "      <td>9.77</td>\n",
       "      <td>44.65</td>\n",
       "      <td>0</td>\n",
       "      <td>9198</td>\n",
       "    </tr>\n",
       "    <tr>\n",
       "      <th>7</th>\n",
       "      <td>'Adale</td>\n",
       "      <td>Somalia</td>\n",
       "      <td>5492</td>\n",
       "      <td>2.75</td>\n",
       "      <td>46.30</td>\n",
       "      <td>0</td>\n",
       "      <td>5492</td>\n",
       "    </tr>\n",
       "    <tr>\n",
       "      <th>8</th>\n",
       "      <td>'Afak</td>\n",
       "      <td>Iraq</td>\n",
       "      <td>22706</td>\n",
       "      <td>32.07</td>\n",
       "      <td>45.26</td>\n",
       "      <td>0</td>\n",
       "      <td>22706</td>\n",
       "    </tr>\n",
       "    <tr>\n",
       "      <th>9</th>\n",
       "      <td>'Afif</td>\n",
       "      <td>Saudi Arabia</td>\n",
       "      <td>41731</td>\n",
       "      <td>23.92</td>\n",
       "      <td>42.93</td>\n",
       "      <td>0</td>\n",
       "      <td>41731</td>\n",
       "    </tr>\n",
       "  </tbody>\n",
       "</table>\n",
       "</div>"
      ],
      "text/plain": [
       "                 city       country    pop    lat    lon  capital  pop_M\n",
       "0  'Abasan al-Jadidah     Palestine   5629  31.31  34.34        0   5629\n",
       "1  'Abasan al-Kabirah     Palestine  18999  31.32  34.35        0  18999\n",
       "2        'Abdul Hakim      Pakistan  47788  30.55  72.11        0  47788\n",
       "3  'Abdullah-as-Salam        Kuwait  21817  29.36  47.98        0  21817\n",
       "4               'Abud     Palestine   2456  32.03  35.07        0   2456\n",
       "5             'Abwein     Palestine   3434  32.03  35.20        0   3434\n",
       "6            'Adadlay       Somalia   9198   9.77  44.65        0   9198\n",
       "7              'Adale       Somalia   5492   2.75  46.30        0   5492\n",
       "8               'Afak          Iraq  22706  32.07  45.26        0  22706\n",
       "9               'Afif  Saudi Arabia  41731  23.92  42.93        0  41731"
      ]
     },
     "execution_count": 102,
     "metadata": {},
     "output_type": "execute_result"
    }
   ],
   "source": [
    "cities_df[\"pop_M\"] = cities_df[\"pop\"].map(int)\n",
    "cities_df.head(10)"
   ]
  },
  {
   "cell_type": "markdown",
   "metadata": {},
   "source": [
    "##### This cell above adds a column, named pop_M, by using the .map(int) function and makes all the numbers in that column integers. The first 10 rows were returned to ensure that a new column was added to the data."
   ]
  },
  {
   "cell_type": "code",
   "execution_count": 103,
   "metadata": {},
   "outputs": [
    {
     "data": {
      "text/html": [
       "<div>\n",
       "<style scoped>\n",
       "    .dataframe tbody tr th:only-of-type {\n",
       "        vertical-align: middle;\n",
       "    }\n",
       "\n",
       "    .dataframe tbody tr th {\n",
       "        vertical-align: top;\n",
       "    }\n",
       "\n",
       "    .dataframe thead th {\n",
       "        text-align: right;\n",
       "    }\n",
       "</style>\n",
       "<table border=\"1\" class=\"dataframe\">\n",
       "  <thead>\n",
       "    <tr style=\"text-align: right;\">\n",
       "      <th></th>\n",
       "      <th>city</th>\n",
       "      <th>country</th>\n",
       "      <th>lat</th>\n",
       "      <th>lon</th>\n",
       "      <th>capital</th>\n",
       "      <th>pop_M</th>\n",
       "    </tr>\n",
       "  </thead>\n",
       "  <tbody>\n",
       "    <tr>\n",
       "      <th>0</th>\n",
       "      <td>'Abasan al-Jadidah</td>\n",
       "      <td>Palestine</td>\n",
       "      <td>31.31</td>\n",
       "      <td>34.34</td>\n",
       "      <td>0</td>\n",
       "      <td>5629</td>\n",
       "    </tr>\n",
       "    <tr>\n",
       "      <th>1</th>\n",
       "      <td>'Abasan al-Kabirah</td>\n",
       "      <td>Palestine</td>\n",
       "      <td>31.32</td>\n",
       "      <td>34.35</td>\n",
       "      <td>0</td>\n",
       "      <td>18999</td>\n",
       "    </tr>\n",
       "    <tr>\n",
       "      <th>2</th>\n",
       "      <td>'Abdul Hakim</td>\n",
       "      <td>Pakistan</td>\n",
       "      <td>30.55</td>\n",
       "      <td>72.11</td>\n",
       "      <td>0</td>\n",
       "      <td>47788</td>\n",
       "    </tr>\n",
       "    <tr>\n",
       "      <th>3</th>\n",
       "      <td>'Abdullah-as-Salam</td>\n",
       "      <td>Kuwait</td>\n",
       "      <td>29.36</td>\n",
       "      <td>47.98</td>\n",
       "      <td>0</td>\n",
       "      <td>21817</td>\n",
       "    </tr>\n",
       "    <tr>\n",
       "      <th>4</th>\n",
       "      <td>'Abud</td>\n",
       "      <td>Palestine</td>\n",
       "      <td>32.03</td>\n",
       "      <td>35.07</td>\n",
       "      <td>0</td>\n",
       "      <td>2456</td>\n",
       "    </tr>\n",
       "    <tr>\n",
       "      <th>5</th>\n",
       "      <td>'Abwein</td>\n",
       "      <td>Palestine</td>\n",
       "      <td>32.03</td>\n",
       "      <td>35.20</td>\n",
       "      <td>0</td>\n",
       "      <td>3434</td>\n",
       "    </tr>\n",
       "    <tr>\n",
       "      <th>6</th>\n",
       "      <td>'Adadlay</td>\n",
       "      <td>Somalia</td>\n",
       "      <td>9.77</td>\n",
       "      <td>44.65</td>\n",
       "      <td>0</td>\n",
       "      <td>9198</td>\n",
       "    </tr>\n",
       "    <tr>\n",
       "      <th>7</th>\n",
       "      <td>'Adale</td>\n",
       "      <td>Somalia</td>\n",
       "      <td>2.75</td>\n",
       "      <td>46.30</td>\n",
       "      <td>0</td>\n",
       "      <td>5492</td>\n",
       "    </tr>\n",
       "    <tr>\n",
       "      <th>8</th>\n",
       "      <td>'Afak</td>\n",
       "      <td>Iraq</td>\n",
       "      <td>32.07</td>\n",
       "      <td>45.26</td>\n",
       "      <td>0</td>\n",
       "      <td>22706</td>\n",
       "    </tr>\n",
       "    <tr>\n",
       "      <th>9</th>\n",
       "      <td>'Afif</td>\n",
       "      <td>Saudi Arabia</td>\n",
       "      <td>23.92</td>\n",
       "      <td>42.93</td>\n",
       "      <td>0</td>\n",
       "      <td>41731</td>\n",
       "    </tr>\n",
       "  </tbody>\n",
       "</table>\n",
       "</div>"
      ],
      "text/plain": [
       "                 city       country    lat    lon  capital  pop_M\n",
       "0  'Abasan al-Jadidah     Palestine  31.31  34.34        0   5629\n",
       "1  'Abasan al-Kabirah     Palestine  31.32  34.35        0  18999\n",
       "2        'Abdul Hakim      Pakistan  30.55  72.11        0  47788\n",
       "3  'Abdullah-as-Salam        Kuwait  29.36  47.98        0  21817\n",
       "4               'Abud     Palestine  32.03  35.07        0   2456\n",
       "5             'Abwein     Palestine  32.03  35.20        0   3434\n",
       "6            'Adadlay       Somalia   9.77  44.65        0   9198\n",
       "7              'Adale       Somalia   2.75  46.30        0   5492\n",
       "8               'Afak          Iraq  32.07  45.26        0  22706\n",
       "9               'Afif  Saudi Arabia  23.92  42.93        0  41731"
      ]
     },
     "execution_count": 103,
     "metadata": {},
     "output_type": "execute_result"
    }
   ],
   "source": [
    "popM = cities_df.drop(columns=['pop'])\n",
    "popM.head(10)"
   ]
  },
  {
   "cell_type": "markdown",
   "metadata": {},
   "source": [
    "##### This cell above removes the \"pop\" column using the .drop frunction. The the first 10 rows were returned to make sure that the column was removed."
   ]
  },
  {
   "cell_type": "markdown",
   "metadata": {},
   "source": [
    "##### Chosen city: Nice"
   ]
  },
  {
   "cell_type": "code",
   "execution_count": 104,
   "metadata": {},
   "outputs": [
    {
     "data": {
      "text/html": [
       "<div>\n",
       "<style scoped>\n",
       "    .dataframe tbody tr th:only-of-type {\n",
       "        vertical-align: middle;\n",
       "    }\n",
       "\n",
       "    .dataframe tbody tr th {\n",
       "        vertical-align: top;\n",
       "    }\n",
       "\n",
       "    .dataframe thead th {\n",
       "        text-align: right;\n",
       "    }\n",
       "</style>\n",
       "<table border=\"1\" class=\"dataframe\">\n",
       "  <thead>\n",
       "    <tr style=\"text-align: right;\">\n",
       "      <th></th>\n",
       "      <th>city</th>\n",
       "      <th>country</th>\n",
       "      <th>lat</th>\n",
       "      <th>lon</th>\n",
       "      <th>capital</th>\n",
       "      <th>pop_M</th>\n",
       "    </tr>\n",
       "  </thead>\n",
       "  <tbody>\n",
       "    <tr>\n",
       "      <th>194</th>\n",
       "      <td>Abbeville</td>\n",
       "      <td>France</td>\n",
       "      <td>50.12</td>\n",
       "      <td>1.83</td>\n",
       "      <td>0</td>\n",
       "      <td>26656</td>\n",
       "    </tr>\n",
       "    <tr>\n",
       "      <th>317</th>\n",
       "      <td>Acheres</td>\n",
       "      <td>France</td>\n",
       "      <td>48.97</td>\n",
       "      <td>2.06</td>\n",
       "      <td>0</td>\n",
       "      <td>23219</td>\n",
       "    </tr>\n",
       "    <tr>\n",
       "      <th>476</th>\n",
       "      <td>Agde</td>\n",
       "      <td>France</td>\n",
       "      <td>43.33</td>\n",
       "      <td>3.46</td>\n",
       "      <td>0</td>\n",
       "      <td>23477</td>\n",
       "    </tr>\n",
       "    <tr>\n",
       "      <th>478</th>\n",
       "      <td>Agen</td>\n",
       "      <td>France</td>\n",
       "      <td>44.20</td>\n",
       "      <td>0.62</td>\n",
       "      <td>0</td>\n",
       "      <td>34742</td>\n",
       "    </tr>\n",
       "    <tr>\n",
       "      <th>642</th>\n",
       "      <td>Aire-sur-la-Lys</td>\n",
       "      <td>France</td>\n",
       "      <td>50.64</td>\n",
       "      <td>2.39</td>\n",
       "      <td>0</td>\n",
       "      <td>10470</td>\n",
       "    </tr>\n",
       "    <tr>\n",
       "      <th>647</th>\n",
       "      <td>Aix-en-Provence</td>\n",
       "      <td>France</td>\n",
       "      <td>43.53</td>\n",
       "      <td>5.44</td>\n",
       "      <td>0</td>\n",
       "      <td>148622</td>\n",
       "    </tr>\n",
       "    <tr>\n",
       "      <th>648</th>\n",
       "      <td>Aix-les-Bains</td>\n",
       "      <td>France</td>\n",
       "      <td>45.70</td>\n",
       "      <td>5.90</td>\n",
       "      <td>0</td>\n",
       "      <td>27913</td>\n",
       "    </tr>\n",
       "    <tr>\n",
       "      <th>661</th>\n",
       "      <td>Ajaccio</td>\n",
       "      <td>France</td>\n",
       "      <td>41.93</td>\n",
       "      <td>8.73</td>\n",
       "      <td>0</td>\n",
       "      <td>54235</td>\n",
       "    </tr>\n",
       "    <tr>\n",
       "      <th>864</th>\n",
       "      <td>Albert</td>\n",
       "      <td>France</td>\n",
       "      <td>50.00</td>\n",
       "      <td>2.65</td>\n",
       "      <td>0</td>\n",
       "      <td>10630</td>\n",
       "    </tr>\n",
       "    <tr>\n",
       "      <th>870</th>\n",
       "      <td>Albertville</td>\n",
       "      <td>France</td>\n",
       "      <td>45.68</td>\n",
       "      <td>6.38</td>\n",
       "      <td>0</td>\n",
       "      <td>19268</td>\n",
       "    </tr>\n",
       "  </tbody>\n",
       "</table>\n",
       "</div>"
      ],
      "text/plain": [
       "                city country    lat   lon  capital   pop_M\n",
       "194        Abbeville  France  50.12  1.83        0   26656\n",
       "317          Acheres  France  48.97  2.06        0   23219\n",
       "476             Agde  France  43.33  3.46        0   23477\n",
       "478             Agen  France  44.20  0.62        0   34742\n",
       "642  Aire-sur-la-Lys  France  50.64  2.39        0   10470\n",
       "647  Aix-en-Provence  France  43.53  5.44        0  148622\n",
       "648    Aix-les-Bains  France  45.70  5.90        0   27913\n",
       "661          Ajaccio  France  41.93  8.73        0   54235\n",
       "864           Albert  France  50.00  2.65        0   10630\n",
       "870      Albertville  France  45.68  6.38        0   19268"
      ]
     },
     "execution_count": 104,
     "metadata": {},
     "output_type": "execute_result"
    }
   ],
   "source": [
    "France = popM[popM[\"country\"]==\"France\"]\n",
    "France.head(10)"
   ]
  },
  {
   "cell_type": "markdown",
   "metadata": {},
   "source": [
    "##### The cell above creates a new subset of the data containing only rows where the country was France. "
   ]
  },
  {
   "cell_type": "code",
   "execution_count": 105,
   "metadata": {},
   "outputs": [
    {
     "name": "stdout",
     "output_type": "stream",
     "text": [
      "                    city  pop_M\n",
      "317              Acheres  23219\n",
      "476                 Agde  23477\n",
      "648        Aix-les-Bains  27913\n",
      "661              Ajaccio  54235\n",
      "875                 Albi  52969\n",
      "...                  ...    ...\n",
      "40940          Vitrolles  38857\n",
      "40941  Vitry-le-Francois  17267\n",
      "41077            Voreppe  10329\n",
      "42536               Yutz  15805\n",
      "42553             Yzeure  13467\n",
      "\n",
      "[477 rows x 2 columns]\n"
     ]
    }
   ],
   "source": [
    "France_subset = popM.query('country==\"France\" and pop_M')[[\"city\", \"pop_M\"]]\n",
    "print(France_subset)"
   ]
  },
  {
   "cell_type": "markdown",
   "metadata": {},
   "source": [
    "##### The cell above creates another subset so that just the cities and their populations are shown/contained in this subset as this is what is being focused on."
   ]
  },
  {
   "cell_type": "code",
   "execution_count": 106,
   "metadata": {},
   "outputs": [
    {
     "name": "stdout",
     "output_type": "stream",
     "text": [
      "2141839\n"
     ]
    }
   ],
   "source": [
    "France_max = France_subset[\"pop_M\"].max()\n",
    "print(France_max)"
   ]
  },
  {
   "cell_type": "markdown",
   "metadata": {},
   "source": [
    "##### The cell above finds the highest population in this subsetted dataframe by using the .max() function."
   ]
  },
  {
   "cell_type": "code",
   "execution_count": 107,
   "metadata": {},
   "outputs": [
    {
     "data": {
      "text/html": [
       "<div>\n",
       "<style scoped>\n",
       "    .dataframe tbody tr th:only-of-type {\n",
       "        vertical-align: middle;\n",
       "    }\n",
       "\n",
       "    .dataframe tbody tr th {\n",
       "        vertical-align: top;\n",
       "    }\n",
       "\n",
       "    .dataframe thead th {\n",
       "        text-align: right;\n",
       "    }\n",
       "</style>\n",
       "<table border=\"1\" class=\"dataframe\">\n",
       "  <thead>\n",
       "    <tr style=\"text-align: right;\">\n",
       "      <th></th>\n",
       "      <th>city</th>\n",
       "      <th>pop_M</th>\n",
       "    </tr>\n",
       "  </thead>\n",
       "  <tbody>\n",
       "    <tr>\n",
       "      <th>28246</th>\n",
       "      <td>Paris</td>\n",
       "      <td>2141839</td>\n",
       "    </tr>\n",
       "  </tbody>\n",
       "</table>\n",
       "</div>"
      ],
      "text/plain": [
       "        city    pop_M\n",
       "28246  Paris  2141839"
      ]
     },
     "execution_count": 107,
     "metadata": {},
     "output_type": "execute_result"
    }
   ],
   "source": [
    "France_subset.loc[France_subset['pop_M'] == 2141839]"
   ]
  },
  {
   "cell_type": "markdown",
   "metadata": {},
   "source": [
    "##### The cell above uses .loc to subset the dataframe to find the row of the specific population integer of interest (the max population that was found earlier). "
   ]
  },
  {
   "cell_type": "code",
   "execution_count": 112,
   "metadata": {},
   "outputs": [
    {
     "name": "stdout",
     "output_type": "stream",
     "text": [
      "                    city  pop_M\n",
      "317              Acheres  23219\n",
      "476                 Agde  23477\n",
      "648        Aix-les-Bains  27913\n",
      "661              Ajaccio  54235\n",
      "875                 Albi  52969\n",
      "...                  ...    ...\n",
      "40940          Vitrolles  38857\n",
      "40941  Vitry-le-Francois  17267\n",
      "41077            Voreppe  10329\n",
      "42536               Yutz  15805\n",
      "42553             Yzeure  13467\n",
      "\n",
      "[476 rows x 2 columns]\n"
     ]
    }
   ],
   "source": [
    "Fr1 = France_subset.drop(28246)\n",
    "print(Fr1)"
   ]
  },
  {
   "cell_type": "markdown",
   "metadata": {},
   "source": [
    "##### The cell above removes this specific row from the dataframe so that there will be a new city with the highest popualtion when the .max function is used again. The following cells repeat this same process of finding the max population of the dataframe, locating the row/city that it belongs to, and then removing it from the dataframe. This was done a total of 5 times to find the 5 most populated cities in France."
   ]
  },
  {
   "cell_type": "code",
   "execution_count": 113,
   "metadata": {},
   "outputs": [
    {
     "data": {
      "text/plain": [
       "475995"
      ]
     },
     "execution_count": 113,
     "metadata": {},
     "output_type": "execute_result"
    }
   ],
   "source": [
    "Fr1[\"pop_M\"].max()"
   ]
  },
  {
   "cell_type": "code",
   "execution_count": 114,
   "metadata": {},
   "outputs": [
    {
     "data": {
      "text/html": [
       "<div>\n",
       "<style scoped>\n",
       "    .dataframe tbody tr th:only-of-type {\n",
       "        vertical-align: middle;\n",
       "    }\n",
       "\n",
       "    .dataframe tbody tr th {\n",
       "        vertical-align: top;\n",
       "    }\n",
       "\n",
       "    .dataframe thead th {\n",
       "        text-align: right;\n",
       "    }\n",
       "</style>\n",
       "<table border=\"1\" class=\"dataframe\">\n",
       "  <thead>\n",
       "    <tr style=\"text-align: right;\">\n",
       "      <th></th>\n",
       "      <th>city</th>\n",
       "      <th>pop_M</th>\n",
       "    </tr>\n",
       "  </thead>\n",
       "  <tbody>\n",
       "    <tr>\n",
       "      <th>21820</th>\n",
       "      <td>Lyon</td>\n",
       "      <td>475995</td>\n",
       "    </tr>\n",
       "  </tbody>\n",
       "</table>\n",
       "</div>"
      ],
      "text/plain": [
       "       city   pop_M\n",
       "21820  Lyon  475995"
      ]
     },
     "execution_count": 114,
     "metadata": {},
     "output_type": "execute_result"
    }
   ],
   "source": [
    "Fr1.loc[Fr1['pop_M'] == 475995]"
   ]
  },
  {
   "cell_type": "code",
   "execution_count": 116,
   "metadata": {},
   "outputs": [
    {
     "name": "stdout",
     "output_type": "stream",
     "text": [
      "                    city  pop_M\n",
      "317              Acheres  23219\n",
      "476                 Agde  23477\n",
      "648        Aix-les-Bains  27913\n",
      "661              Ajaccio  54235\n",
      "875                 Albi  52969\n",
      "...                  ...    ...\n",
      "40940          Vitrolles  38857\n",
      "40941  Vitry-le-Francois  17267\n",
      "41077            Voreppe  10329\n",
      "42536               Yutz  15805\n",
      "42553             Yzeure  13467\n",
      "\n",
      "[475 rows x 2 columns]\n"
     ]
    }
   ],
   "source": [
    "Fr2 = Fr1.drop(21820)\n",
    "print(Fr2)"
   ]
  },
  {
   "cell_type": "code",
   "execution_count": 117,
   "metadata": {},
   "outputs": [
    {
     "data": {
      "text/plain": [
       "337891"
      ]
     },
     "execution_count": 117,
     "metadata": {},
     "output_type": "execute_result"
    }
   ],
   "source": [
    "Fr2[\"pop_M\"].max()"
   ]
  },
  {
   "cell_type": "code",
   "execution_count": 118,
   "metadata": {},
   "outputs": [
    {
     "data": {
      "text/html": [
       "<div>\n",
       "<style scoped>\n",
       "    .dataframe tbody tr th:only-of-type {\n",
       "        vertical-align: middle;\n",
       "    }\n",
       "\n",
       "    .dataframe tbody tr th {\n",
       "        vertical-align: top;\n",
       "    }\n",
       "\n",
       "    .dataframe thead th {\n",
       "        text-align: right;\n",
       "    }\n",
       "</style>\n",
       "<table border=\"1\" class=\"dataframe\">\n",
       "  <thead>\n",
       "    <tr style=\"text-align: right;\">\n",
       "      <th></th>\n",
       "      <th>city</th>\n",
       "      <th>pop_M</th>\n",
       "    </tr>\n",
       "  </thead>\n",
       "  <tbody>\n",
       "    <tr>\n",
       "      <th>25989</th>\n",
       "      <td>Nice</td>\n",
       "      <td>337891</td>\n",
       "    </tr>\n",
       "  </tbody>\n",
       "</table>\n",
       "</div>"
      ],
      "text/plain": [
       "       city   pop_M\n",
       "25989  Nice  337891"
      ]
     },
     "execution_count": 118,
     "metadata": {},
     "output_type": "execute_result"
    }
   ],
   "source": [
    "Fr2.loc[Fr2['pop_M'] == 337891]"
   ]
  },
  {
   "cell_type": "code",
   "execution_count": 119,
   "metadata": {},
   "outputs": [
    {
     "name": "stdout",
     "output_type": "stream",
     "text": [
      "                    city  pop_M\n",
      "317              Acheres  23219\n",
      "476                 Agde  23477\n",
      "648        Aix-les-Bains  27913\n",
      "661              Ajaccio  54235\n",
      "875                 Albi  52969\n",
      "...                  ...    ...\n",
      "40940          Vitrolles  38857\n",
      "40941  Vitry-le-Francois  17267\n",
      "41077            Voreppe  10329\n",
      "42536               Yutz  15805\n",
      "42553             Yzeure  13467\n",
      "\n",
      "[474 rows x 2 columns]\n"
     ]
    }
   ],
   "source": [
    "Fr3 = Fr2.drop(25989)\n",
    "print(Fr3)"
   ]
  },
  {
   "cell_type": "code",
   "execution_count": 120,
   "metadata": {},
   "outputs": [
    {
     "data": {
      "text/plain": [
       "277979"
      ]
     },
     "execution_count": 120,
     "metadata": {},
     "output_type": "execute_result"
    }
   ],
   "source": [
    "Fr3[\"pop_M\"].max()"
   ]
  },
  {
   "cell_type": "code",
   "execution_count": 121,
   "metadata": {},
   "outputs": [
    {
     "data": {
      "text/html": [
       "<div>\n",
       "<style scoped>\n",
       "    .dataframe tbody tr th:only-of-type {\n",
       "        vertical-align: middle;\n",
       "    }\n",
       "\n",
       "    .dataframe tbody tr th {\n",
       "        vertical-align: top;\n",
       "    }\n",
       "\n",
       "    .dataframe thead th {\n",
       "        text-align: right;\n",
       "    }\n",
       "</style>\n",
       "<table border=\"1\" class=\"dataframe\">\n",
       "  <thead>\n",
       "    <tr style=\"text-align: right;\">\n",
       "      <th></th>\n",
       "      <th>city</th>\n",
       "      <th>pop_M</th>\n",
       "    </tr>\n",
       "  </thead>\n",
       "  <tbody>\n",
       "    <tr>\n",
       "      <th>25378</th>\n",
       "      <td>Nantes</td>\n",
       "      <td>277979</td>\n",
       "    </tr>\n",
       "  </tbody>\n",
       "</table>\n",
       "</div>"
      ],
      "text/plain": [
       "         city   pop_M\n",
       "25378  Nantes  277979"
      ]
     },
     "execution_count": 121,
     "metadata": {},
     "output_type": "execute_result"
    }
   ],
   "source": [
    "Fr3.loc[Fr3['pop_M'] == 277979]"
   ]
  },
  {
   "cell_type": "code",
   "execution_count": 122,
   "metadata": {},
   "outputs": [
    {
     "name": "stdout",
     "output_type": "stream",
     "text": [
      "                    city  pop_M\n",
      "317              Acheres  23219\n",
      "476                 Agde  23477\n",
      "648        Aix-les-Bains  27913\n",
      "661              Ajaccio  54235\n",
      "875                 Albi  52969\n",
      "...                  ...    ...\n",
      "40940          Vitrolles  38857\n",
      "40941  Vitry-le-Francois  17267\n",
      "41077            Voreppe  10329\n",
      "42536               Yutz  15805\n",
      "42553             Yzeure  13467\n",
      "\n",
      "[473 rows x 2 columns]\n"
     ]
    }
   ],
   "source": [
    "Fr4 = Fr3.drop(25378)\n",
    "print(Fr4)"
   ]
  },
  {
   "cell_type": "code",
   "execution_count": 123,
   "metadata": {},
   "outputs": [
    {
     "data": {
      "text/plain": [
       "276391"
      ]
     },
     "execution_count": 123,
     "metadata": {},
     "output_type": "execute_result"
    }
   ],
   "source": [
    "Fr4[\"pop_M\"].max()"
   ]
  },
  {
   "cell_type": "code",
   "execution_count": 125,
   "metadata": {},
   "outputs": [
    {
     "data": {
      "text/html": [
       "<div>\n",
       "<style scoped>\n",
       "    .dataframe tbody tr th:only-of-type {\n",
       "        vertical-align: middle;\n",
       "    }\n",
       "\n",
       "    .dataframe tbody tr th {\n",
       "        vertical-align: top;\n",
       "    }\n",
       "\n",
       "    .dataframe thead th {\n",
       "        text-align: right;\n",
       "    }\n",
       "</style>\n",
       "<table border=\"1\" class=\"dataframe\">\n",
       "  <thead>\n",
       "    <tr style=\"text-align: right;\">\n",
       "      <th></th>\n",
       "      <th>city</th>\n",
       "      <th>pop_M</th>\n",
       "    </tr>\n",
       "  </thead>\n",
       "  <tbody>\n",
       "    <tr>\n",
       "      <th>36308</th>\n",
       "      <td>Strasbourg</td>\n",
       "      <td>276391</td>\n",
       "    </tr>\n",
       "  </tbody>\n",
       "</table>\n",
       "</div>"
      ],
      "text/plain": [
       "             city   pop_M\n",
       "36308  Strasbourg  276391"
      ]
     },
     "execution_count": 125,
     "metadata": {},
     "output_type": "execute_result"
    }
   ],
   "source": [
    "Fr4.loc[Fr4['pop_M'] == 276391]"
   ]
  },
  {
   "cell_type": "code",
   "execution_count": 127,
   "metadata": {},
   "outputs": [
    {
     "name": "stdout",
     "output_type": "stream",
     "text": [
      "             city    pop_M\n",
      "21820        Lyon   475995\n",
      "25378      Nantes   277979\n",
      "25989        Nice   337891\n",
      "28246       Paris  2141839\n",
      "36308  Strasbourg   276391\n"
     ]
    }
   ],
   "source": [
    "Francelargpop = France_subset[(France_subset[\"city\"]==\"Paris\") | (France_subset[\"city\"]==\"Lyon\") | (France_subset[\"city\"]==\"Nice\") | (France_subset[\"city\"]==\"Nantes\") | (France_subset[\"city\"]==\"Strasbourg\")]\n",
    "print(Francelargpop)"
   ]
  },
  {
   "cell_type": "markdown",
   "metadata": {},
   "source": [
    "##### The cell above creates a subset containing the 5 most populated cities in France. This is done by using the names of the cities that were found using the methods earlier in the code. The five biggest cities in France are Lyon, Nantes, Nice, Paris, and Strasbourg."
   ]
  },
  {
   "cell_type": "markdown",
   "metadata": {},
   "source": [
    "### Part 3: Python Data Visialization"
   ]
  },
  {
   "cell_type": "code",
   "execution_count": 5,
   "metadata": {},
   "outputs": [],
   "source": [
    "import numpy as np\n",
    "import pandas as pd\n",
    "import matplotlib.pyplot as plt\n",
    "%matplotlib inline\n",
    "plt.rcParams['figure.figsize'] = [10, 8]"
   ]
  },
  {
   "cell_type": "markdown",
   "metadata": {},
   "source": [
    "##### This imports specific libraries which will allow the dataframe to be read and graphs to be created."
   ]
  },
  {
   "cell_type": "code",
   "execution_count": 3,
   "metadata": {},
   "outputs": [],
   "source": [
    "trees = pd.read_csv('/arcgis/home/portland_park_trees.csv', sep=\",\", header=0, encoding=\"ISO-8859-1\")"
   ]
  },
  {
   "cell_type": "markdown",
   "metadata": {},
   "source": [
    "##### This reads the dataframe and calls it \"trees\"."
   ]
  },
  {
   "cell_type": "markdown",
   "metadata": {},
   "source": [
    "#### Graph 1"
   ]
  },
  {
   "cell_type": "code",
   "execution_count": 4,
   "metadata": {},
   "outputs": [
    {
     "data": {
      "image/png": "[encoded data removed]",
      "text/plain": [
       "<Figure size 1000x800 with 1 Axes>"
      ]
     },
     "metadata": {},
     "output_type": "display_data"
    }
   ],
   "source": [
    "ulmus = trees[(trees[\"Genus\"] == \"Ulmus\")]\n",
    "ulmustree = plt.scatter(ulmus.DBH, ulmus.TreeHeight)\n",
    "plt.show(ulmustree)"
   ]
  },
  {
   "cell_type": "markdown",
   "metadata": {},
   "source": [
    "##### In the cell above, a subset of just the ulmus genus was created from the original dataframe. Then a scatter plot was created plotting the DBH and tree height of trees in the umlus genus, using plt.scatter. "
   ]
  },
  {
   "cell_type": "markdown",
   "metadata": {},
   "source": [
    "#### Graph 2"
   ]
  },
  {
   "cell_type": "code",
   "execution_count": 5,
   "metadata": {},
   "outputs": [],
   "source": [
    "import seaborn as sns"
   ]
  },
  {
   "cell_type": "markdown",
   "metadata": {},
   "source": [
    "##### The cell above imports the seaborn library."
   ]
  },
  {
   "cell_type": "code",
   "execution_count": 9,
   "metadata": {},
   "outputs": [
    {
     "data": {
      "text/plain": [
       "<seaborn.axisgrid.FacetGrid at 0x7febea418c70>"
      ]
     },
     "execution_count": 9,
     "metadata": {},
     "output_type": "execute_result"
    },
    {
     "data": {
      "image/png": "[encoded data removed]",
      "text/plain": [
       "<Figure size 500x500 with 1 Axes>"
      ]
     },
     "metadata": {},
     "output_type": "display_data"
    }
   ],
   "source": [
    "sns.relplot(x=\"DBH\", y=\"TreeHeight\", hue=\"Genus_spec\", data=ulmus, legend=False)"
   ]
  },
  {
   "cell_type": "markdown",
   "metadata": {},
   "source": [
    "##### In the cell above, the seaborn library is used to replot the same scatter plot that was initially produced, but with the addition of changing the hue to be different colors for the different species in the ulmus genus. In addition to that, an extra arguement was added where the legend would not be produced along with the scatter plot (legend=False). "
   ]
  },
  {
   "cell_type": "markdown",
   "metadata": {},
   "source": [
    "#### Graph 3"
   ]
  },
  {
   "cell_type": "code",
   "execution_count": 28,
   "metadata": {},
   "outputs": [
    {
     "data": {
      "text/plain": [
       "<AxesSubplot: xlabel='DBH', ylabel='Genus_spec'>"
      ]
     },
     "execution_count": 28,
     "metadata": {},
     "output_type": "execute_result"
    },
    {
     "data": {
      "image/png": "[encoded data removed]",
      "text/plain": [
       "<Figure size 1000x800 with 1 Axes>"
      ]
     },
     "metadata": {},
     "output_type": "display_data"
    }
   ],
   "source": [
    "sns.boxplot(x=\"DBH\", y=\"Genus_spec\", data=ulmus)"
   ]
  },
  {
   "cell_type": "markdown",
   "metadata": {},
   "source": [
    "##### The cell above creates boxplots for each speices in the ulmus genus by allocating the types of species to the y-axis. sns.boxplot was used to create the boxplots."
   ]
  },
  {
   "cell_type": "markdown",
   "metadata": {},
   "source": [
    "#### Graph 4"
   ]
  },
  {
   "cell_type": "code",
   "execution_count": 30,
   "metadata": {},
   "outputs": [
    {
     "data": {
      "image/png": "[encoded data removed]",
      "text/plain": [
       "<Figure size 1000x800 with 1 Axes>"
      ]
     },
     "metadata": {},
     "output_type": "display_data"
    }
   ],
   "source": [
    "ax = sns.boxplot(x=\"DBH\", y=\"Genus_spec\", data=ulmus)\n",
    "ax = plt.scatter(x=\"DBH\", y=\"TreeHeight\", data=ulmus)"
   ]
  },
  {
   "cell_type": "markdown",
   "metadata": {},
   "source": [
    "##### The cell above combines graphs 1 and 3 by creating graphs for the same variable that it is being assigned to (ax). "
   ]
  },
  {
   "cell_type": "markdown",
   "metadata": {},
   "source": [
    "### Part 4: Python GeoPandas"
   ]
  },
  {
   "cell_type": "code",
   "execution_count": 2,
   "metadata": {
    "scrolled": false
   },
   "outputs": [
    {
     "name": "stdout",
     "output_type": "stream",
     "text": [
      "Collecting geopandas\n",
      "  Obtaining dependency information for geopandas from https://files.pythonhosted.org/packages/3e/cf/ede993ed7070c5487e6db550aad490178c06eaa48ad26ff5e5263f995fba/geopandas-0.14.1-py3-none-any.whl.metadata\n",
      "  Downloading geopandas-0.14.1-py3-none-any.whl.metadata (1.5 kB)\n",
      "Requirement already satisfied: fiona in /opt/conda/lib/python3.9/site-packages (1.8.21)\n",
      "Requirement already satisfied: shapely in /opt/conda/lib/python3.9/site-packages (2.0.1)\n",
      "Collecting pyproj\n",
      "  Obtaining dependency information for pyproj from https://files.pythonhosted.org/packages/97/0a/b1525be9680369cc06dd288e12c59d24d5798b4afcdcf1b0915836e1caa6/pyproj-3.6.1-cp39-cp39-manylinux_2_17_x86_64.manylinux2014_x86_64.whl.metadata\n",
      "  Downloading pyproj-3.6.1-cp39-cp39-manylinux_2_17_x86_64.manylinux2014_x86_64.whl.metadata (31 kB)\n",
      "Requirement already satisfied: rtree in /opt/conda/lib/python3.9/site-packages (0.9.4)\n",
      "Collecting contextily\n",
      "  Obtaining dependency information for contextily from https://files.pythonhosted.org/packages/83/35/562e72099bf50228fa2a8e161db35a94090f3939cb73aa54e385096ca3ff/contextily-1.4.0-py3-none-any.whl.metadata\n",
      "  Downloading contextily-1.4.0-py3-none-any.whl.metadata (2.9 kB)\n",
      "Collecting folium\n",
      "  Obtaining dependency information for folium from https://files.pythonhosted.org/packages/a2/1a/37c7ee1bc806d6c32621fecc72c19f6a9f9b4369e5e8f406a7c16d49f031/folium-0.15.0-py2.py3-none-any.whl.metadata\n",
      "  Downloading folium-0.15.0-py2.py3-none-any.whl.metadata (3.4 kB)\n",
      "Requirement already satisfied: matplotlib in /opt/conda/lib/python3.9/site-packages (3.6.0)\n",
      "Collecting mapclassify\n",
      "  Obtaining dependency information for mapclassify from https://files.pythonhosted.org/packages/3f/f1/8db36df379703311c16e5341b408dad04e34cfded66f38e351c380fbd5ae/mapclassify-2.6.1-py3-none-any.whl.metadata\n",
      "  Downloading mapclassify-2.6.1-py3-none-any.whl.metadata (2.6 kB)\n",
      "Requirement already satisfied: packaging in /opt/conda/lib/python3.9/site-packages (from geopandas) (23.1)\n",
      "Requirement already satisfied: pandas>=1.4.0 in /opt/conda/lib/python3.9/site-packages (from geopandas) (2.0.2)\n",
      "Requirement already satisfied: attrs>=17 in /opt/conda/lib/python3.9/site-packages (from fiona) (23.1.0)\n",
      "Requirement already satisfied: certifi in /opt/conda/lib/python3.9/site-packages (from fiona) (2023.7.22)\n",
      "Requirement already satisfied: click>=4.0 in /opt/conda/lib/python3.9/site-packages (from fiona) (8.0.4)\n",
      "Requirement already satisfied: cligj>=0.5 in /opt/conda/lib/python3.9/site-packages (from fiona) (0.7.2)\n",
      "Requirement already satisfied: click-plugins>=1.0 in /opt/conda/lib/python3.9/site-packages (from fiona) (1.1.1)\n",
      "Requirement already satisfied: six>=1.7 in /opt/conda/lib/python3.9/site-packages (from fiona) (1.16.0)\n",
      "Requirement already satisfied: munch in /opt/conda/lib/python3.9/site-packages (from fiona) (2.5.0)\n",
      "Requirement already satisfied: setuptools in /opt/conda/lib/python3.9/site-packages (from fiona) (68.0.0)\n",
      "Requirement already satisfied: numpy>=1.14 in /opt/conda/lib/python3.9/site-packages (from shapely) (1.22.3)\n",
      "Collecting geopy (from contextily)\n",
      "  Obtaining dependency information for geopy from https://files.pythonhosted.org/packages/e1/58/9289c6a03116025cdb61461d99b2493daa4967a80b13755463d71a0affeb/geopy-2.4.0-py3-none-any.whl.metadata\n",
      "  Downloading geopy-2.4.0-py3-none-any.whl.metadata (6.8 kB)\n",
      "Collecting mercantile (from contextily)\n",
      "  Downloading mercantile-1.2.1-py3-none-any.whl (14 kB)\n",
      "Requirement already satisfied: pillow in /opt/conda/lib/python3.9/site-packages (from contextily) (9.4.0)\n",
      "Requirement already satisfied: rasterio in /opt/conda/lib/python3.9/site-packages (from contextily) (1.2.10)\n",
      "Requirement already satisfied: requests in /opt/conda/lib/python3.9/site-packages (from contextily) (2.31.0)\n",
      "Requirement already satisfied: joblib in /opt/conda/lib/python3.9/site-packages (from contextily) (1.2.0)\n",
      "Collecting xyzservices (from contextily)\n",
      "  Obtaining dependency information for xyzservices from https://files.pythonhosted.org/packages/82/c3/e06dfa46464cce3eda4b86df8847cab99d9bc545c76807ee689545187a4c/xyzservices-2023.10.1-py3-none-any.whl.metadata\n",
      "  Downloading xyzservices-2023.10.1-py3-none-any.whl.metadata (4.0 kB)\n",
      "Collecting branca>=0.6.0 (from folium)\n",
      "  Obtaining dependency information for branca>=0.6.0 from https://files.pythonhosted.org/packages/2f/e7/603b136221de923055716d23e3047da71f92e0d8ba2c4517ce49a54fe768/branca-0.7.0-py3-none-any.whl.metadata\n",
      "  Downloading branca-0.7.0-py3-none-any.whl.metadata (1.5 kB)\n",
      "Requirement already satisfied: jinja2>=2.9 in /opt/conda/lib/python3.9/site-packages (from folium) (3.1.2)\n",
      "Requirement already satisfied: contourpy>=1.0.1 in /opt/conda/lib/python3.9/site-packages (from matplotlib) (1.0.5)\n",
      "Requirement already satisfied: cycler>=0.10 in /opt/conda/lib/python3.9/site-packages (from matplotlib) (0.11.0)\n",
      "Requirement already satisfied: fonttools>=4.22.0 in /opt/conda/lib/python3.9/site-packages (from matplotlib) (4.25.0)\n",
      "Requirement already satisfied: kiwisolver>=1.0.1 in /opt/conda/lib/python3.9/site-packages (from matplotlib) (1.4.4)\n",
      "Requirement already satisfied: pyparsing>=2.2.1 in /opt/conda/lib/python3.9/site-packages (from matplotlib) (3.0.9)\n",
      "Requirement already satisfied: python-dateutil>=2.7 in /opt/conda/lib/python3.9/site-packages (from matplotlib) (2.8.2)\n",
      "Requirement already satisfied: networkx>=2.7 in /opt/conda/lib/python3.9/site-packages (from mapclassify) (3.1)\n",
      "Collecting numpy>=1.14 (from shapely)\n",
      "  Obtaining dependency information for numpy>=1.14 from https://files.pythonhosted.org/packages/2f/75/f007cc0e6a373207818bef17f463d3305e9dd380a70db0e523e7660bf21f/numpy-1.26.2-cp39-cp39-manylinux_2_17_x86_64.manylinux2014_x86_64.whl.metadata\n",
      "  Downloading numpy-1.26.2-cp39-cp39-manylinux_2_17_x86_64.manylinux2014_x86_64.whl.metadata (61 kB)\n",
      "\u001b[2K     \u001b[90m━━━━━━━━━━━━━━━━━━━━━━━━━━━━━━━━━━━━━━━━\u001b[0m \u001b[32m61.2/61.2 kB\u001b[0m \u001b[31m7.9 MB/s\u001b[0m eta \u001b[36m0:00:00\u001b[0m\n",
      "\u001b[?25hRequirement already satisfied: scikit-learn>=1.0 in /opt/conda/lib/python3.9/site-packages (from mapclassify) (1.2.2)\n",
      "Requirement already satisfied: scipy>=1.8 in /opt/conda/lib/python3.9/site-packages (from mapclassify) (1.9.3)\n",
      "Requirement already satisfied: MarkupSafe>=2.0 in /opt/conda/lib/python3.9/site-packages (from jinja2>=2.9->folium) (2.1.1)\n",
      "Requirement already satisfied: pytz>=2020.1 in /opt/conda/lib/python3.9/site-packages (from pandas>=1.4.0->geopandas) (2023.3.post1)\n",
      "Collecting tzdata>=2022.1 (from pandas>=1.4.0->geopandas)\n",
      "  Downloading tzdata-2023.3-py2.py3-none-any.whl (341 kB)\n",
      "\u001b[2K     \u001b[90m━━━━━━━━━━━━━━━━━━━━━━━━━━━━━━━━━━━━━━\u001b[0m \u001b[32m341.8/341.8 kB\u001b[0m \u001b[31m35.3 MB/s\u001b[0m eta \u001b[36m0:00:00\u001b[0m\n",
      "\u001b[?25hRequirement already satisfied: threadpoolctl>=2.0.0 in /opt/conda/lib/python3.9/site-packages (from scikit-learn>=1.0->mapclassify) (2.2.0)\n",
      "Collecting numpy>=1.14 (from shapely)\n",
      "  Obtaining dependency information for numpy>=1.14 from https://files.pythonhosted.org/packages/69/1f/c95b1108a9972a52d7b1b63ed8ca70466b59b8c1811bd121f1e667cc45d8/numpy-1.25.2-cp39-cp39-manylinux_2_17_x86_64.manylinux2014_x86_64.whl.metadata\n",
      "  Downloading numpy-1.25.2-cp39-cp39-manylinux_2_17_x86_64.manylinux2014_x86_64.whl.metadata (5.6 kB)\n",
      "Collecting geographiclib<3,>=1.52 (from geopy->contextily)\n",
      "  Downloading geographiclib-2.0-py3-none-any.whl (40 kB)\n",
      "\u001b[2K     \u001b[90m━━━━━━━━━━━━━━━━━━━━━━━━━━━━━━━━━━━━━━━━\u001b[0m \u001b[32m40.3/40.3 kB\u001b[0m \u001b[31m4.8 MB/s\u001b[0m eta \u001b[36m0:00:00\u001b[0m\n",
      "\u001b[?25hRequirement already satisfied: affine in /opt/conda/lib/python3.9/site-packages (from rasterio->contextily) (2.3.0)\n",
      "Requirement already satisfied: snuggs>=1.4.1 in /opt/conda/lib/python3.9/site-packages (from rasterio->contextily) (1.4.7)\n",
      "Requirement already satisfied: charset-normalizer<4,>=2 in /opt/conda/lib/python3.9/site-packages (from requests->contextily) (2.0.4)\n",
      "Requirement already satisfied: idna<4,>=2.5 in /opt/conda/lib/python3.9/site-packages (from requests->contextily) (3.4)\n",
      "Requirement already satisfied: urllib3<3,>=1.21.1 in /opt/conda/lib/python3.9/site-packages (from requests->contextily) (1.26.16)\n",
      "Downloading geopandas-0.14.1-py3-none-any.whl (1.1 MB)\n",
      "\u001b[2K   \u001b[90m━━━━━━━━━━━━━━━━━━━━━━━━━━━━━━━━━━━━━━━━\u001b[0m \u001b[32m1.1/1.1 MB\u001b[0m \u001b[31m59.6 MB/s\u001b[0m eta \u001b[36m0:00:00\u001b[0m\n",
      "\u001b[?25hDownloading pyproj-3.6.1-cp39-cp39-manylinux_2_17_x86_64.manylinux2014_x86_64.whl (8.3 MB)\n",
      "\u001b[2K   \u001b[90m━━━━━━━━━━━━━━━━━━━━━━━━━━━━━━━━━━━━━━━━\u001b[0m \u001b[32m8.3/8.3 MB\u001b[0m \u001b[31m101.1 MB/s\u001b[0m eta \u001b[36m0:00:00\u001b[0m00:01\u001b[0m00:01\u001b[0m\n",
      "\u001b[?25hDownloading contextily-1.4.0-py3-none-any.whl (16 kB)\n",
      "Downloading folium-0.15.0-py2.py3-none-any.whl (100 kB)\n",
      "\u001b[2K   \u001b[90m━━━━━━━━━━━━━━━━━━━━━━━━━━━━━━━━━━━━━━━━\u001b[0m \u001b[32m100.3/100.3 kB\u001b[0m \u001b[31m13.7 MB/s\u001b[0m eta \u001b[36m0:00:00\u001b[0m\n",
      "\u001b[?25hDownloading mapclassify-2.6.1-py3-none-any.whl (38 kB)\n",
      "Downloading branca-0.7.0-py3-none-any.whl (25 kB)\n",
      "Downloading numpy-1.25.2-cp39-cp39-manylinux_2_17_x86_64.manylinux2014_x86_64.whl (18.3 MB)\n",
      "\u001b[2K   \u001b[90m━━━━━━━━━━━━━━━━━━━━━━━━━━━━━━━━━━━━━━━━\u001b[0m \u001b[32m18.3/18.3 MB\u001b[0m \u001b[31m55.8 MB/s\u001b[0m eta \u001b[36m0:00:00\u001b[0m:00:01\u001b[0m00:01\u001b[0m\n",
      "\u001b[?25hDownloading geopy-2.4.0-py3-none-any.whl (125 kB)\n",
      "\u001b[2K   \u001b[90m━━━━━━━━━━━━━━━━━━━━━━━━━━━━━━━━━━━━━━━━\u001b[0m \u001b[32m125.4/125.4 kB\u001b[0m \u001b[31m17.5 MB/s\u001b[0m eta \u001b[36m0:00:00\u001b[0m\n",
      "\u001b[?25hDownloading xyzservices-2023.10.1-py3-none-any.whl (56 kB)\n",
      "\u001b[2K   \u001b[90m━━━━━━━━━━━━━━━━━━━━━━━━━━━━━━━━━━━━━━━━\u001b[0m \u001b[32m56.3/56.3 kB\u001b[0m \u001b[31m7.3 MB/s\u001b[0m eta \u001b[36m0:00:00\u001b[0m\n",
      "\u001b[?25hInstalling collected packages: xyzservices, tzdata, pyproj, numpy, mercantile, geographiclib, geopy, branca, geopandas, folium, mapclassify, contextily\n",
      "  Attempting uninstall: numpy\n",
      "    Found existing installation: numpy 1.22.3\n",
      "    Uninstalling numpy-1.22.3:\n",
      "      Successfully uninstalled numpy-1.22.3\n",
      "\u001b[31mERROR: pip's dependency resolver does not currently take into account all the packages that are installed. This behaviour is the source of the following dependency conflicts.\n",
      "albumentations 1.0.3 requires opencv-python-headless>=4.1.1, which is not installed.\n",
      "fastai 1.0.63 requires nvidia-ml-py3, which is not installed.\n",
      "imgaug 0.4.0 requires opencv-python-headless, which is not installed.\n",
      "mmdet3d 1.0.0rc5 requires lyft-dataset-sdk, which is not installed.\n",
      "mmdet3d 1.0.0rc5 requires plyfile, which is not installed.\n",
      "nuscenes-devkit 1.1.3 requires jupyter, which is not installed.\n",
      "nuscenes-devkit 1.1.3 requires opencv-python, which is not installed.\n",
      "tensorflow-gpu 2.7.0 requires libclang>=9.0.1, which is not installed.\n",
      "tensorflow-gpu 2.7.0 requires tensorflow-io-gcs-filesystem>=0.21.0, which is not installed.\n",
      "torch-geometric 1.7.2 requires python-louvain, which is not installed.\n",
      "mmdet3d 1.0.0rc5 requires networkx<2.3,>=2.2, but you have networkx 3.1 which is incompatible.\n",
      "mmdet3d 1.0.0rc5 requires numba==0.53.0, but you have numba 0.57.1 which is incompatible.\n",
      "numba 0.57.1 requires numpy<1.25,>=1.21, but you have numpy 1.25.2 which is incompatible.\n",
      "tensorflow-gpu 2.7.0 requires flatbuffers<3.0,>=1.12, but you have flatbuffers 20210226132247 which is incompatible.\n",
      "tensorflow-gpu 2.7.0 requires gast<0.5.0,>=0.2.1, but you have gast 0.5.3 which is incompatible.\n",
      "tflite-support 0.4.1 requires flatbuffers<2,>=1.12, but you have flatbuffers 20210226132247 which is incompatible.\u001b[0m\u001b[31m\n",
      "\u001b[0mSuccessfully installed branca-0.7.0 contextily-1.4.0 folium-0.15.0 geographiclib-2.0 geopandas-0.14.1 geopy-2.4.0 mapclassify-2.6.1 mercantile-1.2.1 numpy-1.25.2 pyproj-3.6.1 tzdata-2023.3 xyzservices-2023.10.1\n",
      "Note: you may need to restart the kernel to use updated packages.\n"
     ]
    }
   ],
   "source": [
    "pip install geopandas fiona shapely pyproj rtree contextily folium matplotlib mapclassify"
   ]
  },
  {
   "cell_type": "markdown",
   "metadata": {},
   "source": [
    "##### The cell above installs the geopandas package."
   ]
  },
  {
   "cell_type": "code",
   "execution_count": 3,
   "metadata": {},
   "outputs": [],
   "source": [
    "import geopandas as gpd"
   ]
  },
  {
   "cell_type": "markdown",
   "metadata": {},
   "source": [
    "##### The cell above imports the geopandas library."
   ]
  },
  {
   "cell_type": "code",
   "execution_count": 6,
   "metadata": {},
   "outputs": [],
   "source": [
    "geo = gpd.read_file('/arcgis/home/Cairngorm_Geomorphology_Polygons.shp')"
   ]
  },
  {
   "cell_type": "markdown",
   "metadata": {},
   "source": [
    "##### The cell above reads the file as a geopandas dataframe, and names it ___."
   ]
  },
  {
   "cell_type": "code",
   "execution_count": 7,
   "metadata": {},
   "outputs": [
    {
     "data": {
      "text/html": [
       "<div>\n",
       "<style scoped>\n",
       "    .dataframe tbody tr th:only-of-type {\n",
       "        vertical-align: middle;\n",
       "    }\n",
       "\n",
       "    .dataframe tbody tr th {\n",
       "        vertical-align: top;\n",
       "    }\n",
       "\n",
       "    .dataframe thead th {\n",
       "        text-align: right;\n",
       "    }\n",
       "</style>\n",
       "<table border=\"1\" class=\"dataframe\">\n",
       "  <thead>\n",
       "    <tr style=\"text-align: right;\">\n",
       "      <th></th>\n",
       "      <th>OBJECTID</th>\n",
       "      <th>PRIMARY_CO</th>\n",
       "      <th>SECONDARY_</th>\n",
       "      <th>LANDFORM_A</th>\n",
       "      <th>LANDFORM</th>\n",
       "      <th>OID_T</th>\n",
       "      <th>SHAPE_Leng</th>\n",
       "      <th>SHAPE_Area</th>\n",
       "      <th>geometry</th>\n",
       "    </tr>\n",
       "  </thead>\n",
       "  <tbody>\n",
       "    <tr>\n",
       "      <th>0</th>\n",
       "      <td>1</td>\n",
       "      <td>3.6</td>\n",
       "      <td>None</td>\n",
       "      <td>Landforms of glacial and glaciofluvial deposition</td>\n",
       "      <td>Moraine</td>\n",
       "      <td>73.0</td>\n",
       "      <td>421.809778</td>\n",
       "      <td>12177.266399</td>\n",
       "      <td>POLYGON ((300032.000 808286.875, 300013.094 80...</td>\n",
       "    </tr>\n",
       "    <tr>\n",
       "      <th>1</th>\n",
       "      <td>2</td>\n",
       "      <td>4.2a</td>\n",
       "      <td>None</td>\n",
       "      <td>Landforms of glacial and glaciofluvial deposition</td>\n",
       "      <td>Ice-marginal kame</td>\n",
       "      <td>74.0</td>\n",
       "      <td>1238.740991</td>\n",
       "      <td>38663.205669</td>\n",
       "      <td>POLYGON ((302113.637 807965.677, 302017.690 80...</td>\n",
       "    </tr>\n",
       "    <tr>\n",
       "      <th>2</th>\n",
       "      <td>3</td>\n",
       "      <td>3.6</td>\n",
       "      <td>None</td>\n",
       "      <td>Landforms of glacial and glaciofluvial deposition</td>\n",
       "      <td>Moraine</td>\n",
       "      <td>75.0</td>\n",
       "      <td>379.218579</td>\n",
       "      <td>8761.285828</td>\n",
       "      <td>POLYGON ((299794.813 808279.875, 299772.188 80...</td>\n",
       "    </tr>\n",
       "    <tr>\n",
       "      <th>3</th>\n",
       "      <td>4</td>\n",
       "      <td>3.7</td>\n",
       "      <td>None</td>\n",
       "      <td>Landforms of glacial and glaciofluvial deposition</td>\n",
       "      <td>Moraine limit</td>\n",
       "      <td>76.0</td>\n",
       "      <td>209.893525</td>\n",
       "      <td>2567.092477</td>\n",
       "      <td>POLYGON ((302992.094 808222.625, 302982.094 80...</td>\n",
       "    </tr>\n",
       "    <tr>\n",
       "      <th>4</th>\n",
       "      <td>5</td>\n",
       "      <td>3.6</td>\n",
       "      <td>None</td>\n",
       "      <td>Landforms of glacial and glaciofluvial deposition</td>\n",
       "      <td>Moraine</td>\n",
       "      <td>77.0</td>\n",
       "      <td>733.168468</td>\n",
       "      <td>23406.109899</td>\n",
       "      <td>POLYGON ((299896.313 807991.188, 299879.000 80...</td>\n",
       "    </tr>\n",
       "  </tbody>\n",
       "</table>\n",
       "</div>"
      ],
      "text/plain": [
       "   OBJECTID PRIMARY_CO SECONDARY_  \\\n",
       "0         1        3.6       None   \n",
       "1         2       4.2a       None   \n",
       "2         3        3.6       None   \n",
       "3         4        3.7       None   \n",
       "4         5        3.6       None   \n",
       "\n",
       "                                          LANDFORM_A           LANDFORM  \\\n",
       "0  Landforms of glacial and glaciofluvial deposition            Moraine   \n",
       "1  Landforms of glacial and glaciofluvial deposition  Ice-marginal kame   \n",
       "2  Landforms of glacial and glaciofluvial deposition            Moraine   \n",
       "3  Landforms of glacial and glaciofluvial deposition      Moraine limit   \n",
       "4  Landforms of glacial and glaciofluvial deposition            Moraine   \n",
       "\n",
       "   OID_T   SHAPE_Leng    SHAPE_Area  \\\n",
       "0   73.0   421.809778  12177.266399   \n",
       "1   74.0  1238.740991  38663.205669   \n",
       "2   75.0   379.218579   8761.285828   \n",
       "3   76.0   209.893525   2567.092477   \n",
       "4   77.0   733.168468  23406.109899   \n",
       "\n",
       "                                            geometry  \n",
       "0  POLYGON ((300032.000 808286.875, 300013.094 80...  \n",
       "1  POLYGON ((302113.637 807965.677, 302017.690 80...  \n",
       "2  POLYGON ((299794.813 808279.875, 299772.188 80...  \n",
       "3  POLYGON ((302992.094 808222.625, 302982.094 80...  \n",
       "4  POLYGON ((299896.313 807991.188, 299879.000 80...  "
      ]
     },
     "execution_count": 7,
     "metadata": {},
     "output_type": "execute_result"
    }
   ],
   "source": [
    "geo.head()"
   ]
  },
  {
   "cell_type": "markdown",
   "metadata": {},
   "source": [
    "##### The cell above produces the first five rows of the data using the .head() function."
   ]
  },
  {
   "cell_type": "code",
   "execution_count": 8,
   "metadata": {},
   "outputs": [
    {
     "data": {
      "text/html": [
       "<div>\n",
       "<style scoped>\n",
       "    .dataframe tbody tr th:only-of-type {\n",
       "        vertical-align: middle;\n",
       "    }\n",
       "\n",
       "    .dataframe tbody tr th {\n",
       "        vertical-align: top;\n",
       "    }\n",
       "\n",
       "    .dataframe thead th {\n",
       "        text-align: right;\n",
       "    }\n",
       "</style>\n",
       "<table border=\"1\" class=\"dataframe\">\n",
       "  <thead>\n",
       "    <tr style=\"text-align: right;\">\n",
       "      <th></th>\n",
       "      <th>OBJECTID</th>\n",
       "      <th>PRIMARY_CO</th>\n",
       "      <th>SECONDARY_</th>\n",
       "      <th>LANDFORM_A</th>\n",
       "      <th>LANDFORM</th>\n",
       "      <th>OID_T</th>\n",
       "      <th>SHAPE_Leng</th>\n",
       "      <th>SHAPE_Area</th>\n",
       "      <th>geometry</th>\n",
       "    </tr>\n",
       "  </thead>\n",
       "  <tbody>\n",
       "    <tr>\n",
       "      <th>4110</th>\n",
       "      <td>4111</td>\n",
       "      <td>3.9</td>\n",
       "      <td>None</td>\n",
       "      <td>Landforms of glacial and glaciofluvial deposition</td>\n",
       "      <td>Undifferentiated ice-marginal deposits</td>\n",
       "      <td>3511.0</td>\n",
       "      <td>373.447812</td>\n",
       "      <td>7275.422445</td>\n",
       "      <td>POLYGON ((318827.454 805089.378, 318834.438 80...</td>\n",
       "    </tr>\n",
       "    <tr>\n",
       "      <th>4111</th>\n",
       "      <td>4112</td>\n",
       "      <td>3.9</td>\n",
       "      <td>None</td>\n",
       "      <td>Landforms of glacial and glaciofluvial deposition</td>\n",
       "      <td>Undifferentiated ice-marginal deposits</td>\n",
       "      <td>3512.0</td>\n",
       "      <td>317.786136</td>\n",
       "      <td>6743.949450</td>\n",
       "      <td>POLYGON ((318871.814 804756.656, 318857.266 80...</td>\n",
       "    </tr>\n",
       "    <tr>\n",
       "      <th>4112</th>\n",
       "      <td>4113</td>\n",
       "      <td>3.9</td>\n",
       "      <td>None</td>\n",
       "      <td>Landforms of glacial and glaciofluvial deposition</td>\n",
       "      <td>Undifferentiated ice-marginal deposits</td>\n",
       "      <td>3513.0</td>\n",
       "      <td>173.746256</td>\n",
       "      <td>1870.449243</td>\n",
       "      <td>POLYGON ((318930.850 804839.005, 318929.104 80...</td>\n",
       "    </tr>\n",
       "    <tr>\n",
       "      <th>4113</th>\n",
       "      <td>4114</td>\n",
       "      <td>3.9</td>\n",
       "      <td>None</td>\n",
       "      <td>Landforms of glacial and glaciofluvial deposition</td>\n",
       "      <td>Undifferentiated ice-marginal deposits</td>\n",
       "      <td>3514.0</td>\n",
       "      <td>250.148919</td>\n",
       "      <td>4686.949632</td>\n",
       "      <td>POLYGON ((318927.940 804809.326, 318929.104 80...</td>\n",
       "    </tr>\n",
       "    <tr>\n",
       "      <th>4114</th>\n",
       "      <td>4115</td>\n",
       "      <td>3.9</td>\n",
       "      <td>None</td>\n",
       "      <td>Landforms of glacial and glaciofluvial deposition</td>\n",
       "      <td>Undifferentiated ice-marginal deposits</td>\n",
       "      <td>3515.0</td>\n",
       "      <td>246.187382</td>\n",
       "      <td>4463.609221</td>\n",
       "      <td>POLYGON ((318754.831 804695.894, 318747.012 80...</td>\n",
       "    </tr>\n",
       "  </tbody>\n",
       "</table>\n",
       "</div>"
      ],
      "text/plain": [
       "      OBJECTID PRIMARY_CO SECONDARY_  \\\n",
       "4110      4111        3.9       None   \n",
       "4111      4112        3.9       None   \n",
       "4112      4113        3.9       None   \n",
       "4113      4114        3.9       None   \n",
       "4114      4115        3.9       None   \n",
       "\n",
       "                                             LANDFORM_A  \\\n",
       "4110  Landforms of glacial and glaciofluvial deposition   \n",
       "4111  Landforms of glacial and glaciofluvial deposition   \n",
       "4112  Landforms of glacial and glaciofluvial deposition   \n",
       "4113  Landforms of glacial and glaciofluvial deposition   \n",
       "4114  Landforms of glacial and glaciofluvial deposition   \n",
       "\n",
       "                                    LANDFORM   OID_T  SHAPE_Leng   SHAPE_Area  \\\n",
       "4110  Undifferentiated ice-marginal deposits  3511.0  373.447812  7275.422445   \n",
       "4111  Undifferentiated ice-marginal deposits  3512.0  317.786136  6743.949450   \n",
       "4112  Undifferentiated ice-marginal deposits  3513.0  173.746256  1870.449243   \n",
       "4113  Undifferentiated ice-marginal deposits  3514.0  250.148919  4686.949632   \n",
       "4114  Undifferentiated ice-marginal deposits  3515.0  246.187382  4463.609221   \n",
       "\n",
       "                                               geometry  \n",
       "4110  POLYGON ((318827.454 805089.378, 318834.438 80...  \n",
       "4111  POLYGON ((318871.814 804756.656, 318857.266 80...  \n",
       "4112  POLYGON ((318930.850 804839.005, 318929.104 80...  \n",
       "4113  POLYGON ((318927.940 804809.326, 318929.104 80...  \n",
       "4114  POLYGON ((318754.831 804695.894, 318747.012 80...  "
      ]
     },
     "execution_count": 8,
     "metadata": {},
     "output_type": "execute_result"
    }
   ],
   "source": [
    "geo.tail()"
   ]
  },
  {
   "cell_type": "markdown",
   "metadata": {},
   "source": [
    "##### The cell above produces the last five rows of the dataset using the .tail() function. "
   ]
  },
  {
   "cell_type": "code",
   "execution_count": 9,
   "metadata": {},
   "outputs": [
    {
     "ename": "AttributeError",
     "evalue": "module 'numpy' has no attribute '_no_nep50_warning'",
     "output_type": "error",
     "traceback": [
      "\u001b[0;31m---------------------------------------------------------------------------\u001b[0m",
      "\u001b[0;31mAttributeError\u001b[0m                            Traceback (most recent call last)",
      "\u001b[0;32m/tmp/ipykernel_26/1600644461.py\u001b[0m in \u001b[0;36m<cell line: 1>\u001b[0;34m()\u001b[0m\n\u001b[0;32m----> 1\u001b[0;31m \u001b[0mgeo\u001b[0m\u001b[0;34m.\u001b[0m\u001b[0mexplore\u001b[0m\u001b[0;34m(\u001b[0m\u001b[0;34m)\u001b[0m\u001b[0;34m\u001b[0m\u001b[0;34m\u001b[0m\u001b[0m\n\u001b[0m",
      "\u001b[0;32m/opt/conda/lib/python3.9/site-packages/geopandas/geodataframe.py\u001b[0m in \u001b[0;36mexplore\u001b[0;34m(self, *args, **kwargs)\u001b[0m\n\u001b[1;32m   2111\u001b[0m     \u001b[0;34m@\u001b[0m\u001b[0mdoc\u001b[0m\u001b[0;34m(\u001b[0m\u001b[0m_explore\u001b[0m\u001b[0;34m)\u001b[0m\u001b[0;34m\u001b[0m\u001b[0;34m\u001b[0m\u001b[0m\n\u001b[1;32m   2112\u001b[0m     \u001b[0;32mdef\u001b[0m \u001b[0mexplore\u001b[0m\u001b[0;34m(\u001b[0m\u001b[0mself\u001b[0m\u001b[0;34m,\u001b[0m \u001b[0;34m*\u001b[0m\u001b[0margs\u001b[0m\u001b[0;34m,\u001b[0m \u001b[0;34m**\u001b[0m\u001b[0mkwargs\u001b[0m\u001b[0;34m)\u001b[0m\u001b[0;34m:\u001b[0m\u001b[0;34m\u001b[0m\u001b[0;34m\u001b[0m\u001b[0m\n\u001b[0;32m-> 2113\u001b[0;31m         \u001b[0;32mreturn\u001b[0m \u001b[0m_explore\u001b[0m\u001b[0;34m(\u001b[0m\u001b[0mself\u001b[0m\u001b[0;34m,\u001b[0m \u001b[0;34m*\u001b[0m\u001b[0margs\u001b[0m\u001b[0;34m,\u001b[0m \u001b[0;34m**\u001b[0m\u001b[0mkwargs\u001b[0m\u001b[0;34m)\u001b[0m\u001b[0;34m\u001b[0m\u001b[0;34m\u001b[0m\u001b[0m\n\u001b[0m\u001b[1;32m   2114\u001b[0m \u001b[0;34m\u001b[0m\u001b[0m\n\u001b[1;32m   2115\u001b[0m     \u001b[0;32mdef\u001b[0m \u001b[0msjoin\u001b[0m\u001b[0;34m(\u001b[0m\u001b[0mself\u001b[0m\u001b[0;34m,\u001b[0m \u001b[0mdf\u001b[0m\u001b[0;34m,\u001b[0m \u001b[0;34m*\u001b[0m\u001b[0margs\u001b[0m\u001b[0;34m,\u001b[0m \u001b[0;34m**\u001b[0m\u001b[0mkwargs\u001b[0m\u001b[0;34m)\u001b[0m\u001b[0;34m:\u001b[0m\u001b[0;34m\u001b[0m\u001b[0;34m\u001b[0m\u001b[0m\n",
      "\u001b[0;32m/opt/conda/lib/python3.9/site-packages/geopandas/explore.py\u001b[0m in \u001b[0;36m_explore\u001b[0;34m(df, column, cmap, color, m, tiles, attr, tooltip, popup, highlight, categorical, legend, scheme, k, vmin, vmax, width, height, categories, classification_kwds, control_scale, marker_type, marker_kwds, style_kwds, highlight_kwds, missing_kwds, tooltip_kwds, popup_kwds, legend_kwds, map_kwds, **kwargs)\u001b[0m\n\u001b[1;32m    284\u001b[0m         \u001b[0;32mfrom\u001b[0m \u001b[0mmatplotlib\u001b[0m \u001b[0;32mimport\u001b[0m \u001b[0mcolors\u001b[0m\u001b[0;34m\u001b[0m\u001b[0;34m\u001b[0m\u001b[0m\n\u001b[1;32m    285\u001b[0m         \u001b[0;32mimport\u001b[0m \u001b[0mmatplotlib\u001b[0m\u001b[0;34m.\u001b[0m\u001b[0mpyplot\u001b[0m \u001b[0;32mas\u001b[0m \u001b[0mplt\u001b[0m\u001b[0;34m\u001b[0m\u001b[0;34m\u001b[0m\u001b[0m\n\u001b[0;32m--> 286\u001b[0;31m         \u001b[0;32mfrom\u001b[0m \u001b[0mmapclassify\u001b[0m \u001b[0;32mimport\u001b[0m \u001b[0mclassify\u001b[0m\u001b[0;34m\u001b[0m\u001b[0;34m\u001b[0m\u001b[0m\n\u001b[0m\u001b[1;32m    287\u001b[0m \u001b[0;34m\u001b[0m\u001b[0m\n\u001b[1;32m    288\u001b[0m         \u001b[0;31m# isolate MPL version - GH#2596\u001b[0m\u001b[0;34m\u001b[0m\u001b[0;34m\u001b[0m\u001b[0m\n",
      "\u001b[0;32m/opt/conda/lib/python3.9/site-packages/mapclassify/__init__.py\u001b[0m in \u001b[0;36m<module>\u001b[0;34m\u001b[0m\n\u001b[1;32m      2\u001b[0m \u001b[0;32mfrom\u001b[0m \u001b[0mimportlib\u001b[0m\u001b[0;34m.\u001b[0m\u001b[0mmetadata\u001b[0m \u001b[0;32mimport\u001b[0m \u001b[0mPackageNotFoundError\u001b[0m\u001b[0;34m,\u001b[0m \u001b[0mversion\u001b[0m\u001b[0;34m\u001b[0m\u001b[0;34m\u001b[0m\u001b[0m\n\u001b[1;32m      3\u001b[0m \u001b[0;34m\u001b[0m\u001b[0m\n\u001b[0;32m----> 4\u001b[0;31m \u001b[0;32mfrom\u001b[0m \u001b[0;34m.\u001b[0m\u001b[0m_classify_API\u001b[0m \u001b[0;32mimport\u001b[0m \u001b[0mclassify\u001b[0m\u001b[0;34m\u001b[0m\u001b[0;34m\u001b[0m\u001b[0m\n\u001b[0m\u001b[1;32m      5\u001b[0m from .classifiers import (\n\u001b[1;32m      6\u001b[0m     \u001b[0mCLASSIFIERS\u001b[0m\u001b[0;34m,\u001b[0m\u001b[0;34m\u001b[0m\u001b[0;34m\u001b[0m\u001b[0m\n",
      "\u001b[0;32m/opt/conda/lib/python3.9/site-packages/mapclassify/_classify_API.py\u001b[0m in \u001b[0;36m<module>\u001b[0;34m\u001b[0m\n\u001b[0;32m----> 1\u001b[0;31m from .classifiers import (\n\u001b[0m\u001b[1;32m      2\u001b[0m     \u001b[0mBoxPlot\u001b[0m\u001b[0;34m,\u001b[0m\u001b[0;34m\u001b[0m\u001b[0;34m\u001b[0m\u001b[0m\n\u001b[1;32m      3\u001b[0m     \u001b[0mEqualInterval\u001b[0m\u001b[0;34m,\u001b[0m\u001b[0;34m\u001b[0m\u001b[0;34m\u001b[0m\u001b[0m\n\u001b[1;32m      4\u001b[0m     \u001b[0mFisherJenks\u001b[0m\u001b[0;34m,\u001b[0m\u001b[0;34m\u001b[0m\u001b[0;34m\u001b[0m\u001b[0m\n\u001b[1;32m      5\u001b[0m     \u001b[0mFisherJenksSampled\u001b[0m\u001b[0;34m,\u001b[0m\u001b[0;34m\u001b[0m\u001b[0;34m\u001b[0m\u001b[0m\n",
      "\u001b[0;32m/opt/conda/lib/python3.9/site-packages/mapclassify/classifiers.py\u001b[0m in \u001b[0;36m<module>\u001b[0;34m\u001b[0m\n\u001b[1;32m      7\u001b[0m \u001b[0;34m\u001b[0m\u001b[0m\n\u001b[1;32m      8\u001b[0m \u001b[0;32mimport\u001b[0m \u001b[0mnumpy\u001b[0m \u001b[0;32mas\u001b[0m \u001b[0mnp\u001b[0m\u001b[0;34m\u001b[0m\u001b[0;34m\u001b[0m\u001b[0m\n\u001b[0;32m----> 9\u001b[0;31m \u001b[0;32mimport\u001b[0m \u001b[0mscipy\u001b[0m\u001b[0;34m.\u001b[0m\u001b[0mstats\u001b[0m \u001b[0;32mas\u001b[0m \u001b[0mstats\u001b[0m\u001b[0;34m\u001b[0m\u001b[0;34m\u001b[0m\u001b[0m\n\u001b[0m\u001b[1;32m     10\u001b[0m \u001b[0;32mfrom\u001b[0m \u001b[0msklearn\u001b[0m\u001b[0;34m.\u001b[0m\u001b[0mcluster\u001b[0m \u001b[0;32mimport\u001b[0m \u001b[0mKMeans\u001b[0m\u001b[0;34m\u001b[0m\u001b[0;34m\u001b[0m\u001b[0m\n\u001b[1;32m     11\u001b[0m \u001b[0;34m\u001b[0m\u001b[0m\n",
      "\u001b[0;32m/opt/conda/lib/python3.9/site-packages/scipy/stats/__init__.py\u001b[0m in \u001b[0;36m<module>\u001b[0;34m\u001b[0m\n\u001b[1;32m    465\u001b[0m from ._warnings_errors import (ConstantInputWarning, NearConstantInputWarning,\n\u001b[1;32m    466\u001b[0m                                DegenerateDataWarning, FitError)\n\u001b[0;32m--> 467\u001b[0;31m \u001b[0;32mfrom\u001b[0m \u001b[0;34m.\u001b[0m\u001b[0m_stats_py\u001b[0m \u001b[0;32mimport\u001b[0m \u001b[0;34m*\u001b[0m\u001b[0;34m\u001b[0m\u001b[0;34m\u001b[0m\u001b[0m\n\u001b[0m\u001b[1;32m    468\u001b[0m \u001b[0;32mfrom\u001b[0m \u001b[0;34m.\u001b[0m\u001b[0m_variation\u001b[0m \u001b[0;32mimport\u001b[0m \u001b[0mvariation\u001b[0m\u001b[0;34m\u001b[0m\u001b[0;34m\u001b[0m\u001b[0m\n\u001b[1;32m    469\u001b[0m \u001b[0;32mfrom\u001b[0m \u001b[0;34m.\u001b[0m\u001b[0mdistributions\u001b[0m \u001b[0;32mimport\u001b[0m \u001b[0;34m*\u001b[0m\u001b[0;34m\u001b[0m\u001b[0;34m\u001b[0m\u001b[0m\n",
      "\u001b[0;32m/opt/conda/lib/python3.9/site-packages/scipy/stats/_stats_py.py\u001b[0m in \u001b[0;36m<module>\u001b[0;34m\u001b[0m\n\u001b[1;32m     35\u001b[0m \u001b[0;32mfrom\u001b[0m \u001b[0mnumpy\u001b[0m \u001b[0;32mimport\u001b[0m \u001b[0marray\u001b[0m\u001b[0;34m,\u001b[0m \u001b[0masarray\u001b[0m\u001b[0;34m,\u001b[0m \u001b[0mma\u001b[0m\u001b[0;34m\u001b[0m\u001b[0;34m\u001b[0m\u001b[0m\n\u001b[1;32m     36\u001b[0m \u001b[0;32mfrom\u001b[0m \u001b[0mnumpy\u001b[0m\u001b[0;34m.\u001b[0m\u001b[0mlib\u001b[0m \u001b[0;32mimport\u001b[0m \u001b[0mNumpyVersion\u001b[0m\u001b[0;34m\u001b[0m\u001b[0;34m\u001b[0m\u001b[0m\n\u001b[0;32m---> 37\u001b[0;31m \u001b[0;32mfrom\u001b[0m \u001b[0mnumpy\u001b[0m\u001b[0;34m.\u001b[0m\u001b[0mtesting\u001b[0m \u001b[0;32mimport\u001b[0m \u001b[0msuppress_warnings\u001b[0m\u001b[0;34m\u001b[0m\u001b[0;34m\u001b[0m\u001b[0m\n\u001b[0m\u001b[1;32m     38\u001b[0m \u001b[0;34m\u001b[0m\u001b[0m\n\u001b[1;32m     39\u001b[0m \u001b[0;32mfrom\u001b[0m \u001b[0mscipy\u001b[0m\u001b[0;34m.\u001b[0m\u001b[0mspatial\u001b[0m\u001b[0;34m.\u001b[0m\u001b[0mdistance\u001b[0m \u001b[0;32mimport\u001b[0m \u001b[0mcdist\u001b[0m\u001b[0;34m\u001b[0m\u001b[0;34m\u001b[0m\u001b[0m\n",
      "\u001b[0;32m/opt/conda/lib/python3.9/site-packages/numpy/testing/__init__.py\u001b[0m in \u001b[0;36m<module>\u001b[0;34m\u001b[0m\n\u001b[1;32m      9\u001b[0m \u001b[0;34m\u001b[0m\u001b[0m\n\u001b[1;32m     10\u001b[0m \u001b[0;32mfrom\u001b[0m \u001b[0;34m.\u001b[0m \u001b[0;32mimport\u001b[0m \u001b[0m_private\u001b[0m\u001b[0;34m\u001b[0m\u001b[0;34m\u001b[0m\u001b[0m\n\u001b[0;32m---> 11\u001b[0;31m \u001b[0;32mfrom\u001b[0m \u001b[0;34m.\u001b[0m\u001b[0m_private\u001b[0m\u001b[0;34m.\u001b[0m\u001b[0mutils\u001b[0m \u001b[0;32mimport\u001b[0m \u001b[0;34m*\u001b[0m\u001b[0;34m\u001b[0m\u001b[0;34m\u001b[0m\u001b[0m\n\u001b[0m\u001b[1;32m     12\u001b[0m \u001b[0;32mfrom\u001b[0m \u001b[0;34m.\u001b[0m\u001b[0m_private\u001b[0m\u001b[0;34m.\u001b[0m\u001b[0mutils\u001b[0m \u001b[0;32mimport\u001b[0m \u001b[0;34m(\u001b[0m\u001b[0m_assert_valid_refcount\u001b[0m\u001b[0;34m,\u001b[0m \u001b[0m_gen_alignment_data\u001b[0m\u001b[0;34m)\u001b[0m\u001b[0;34m\u001b[0m\u001b[0;34m\u001b[0m\u001b[0m\n\u001b[1;32m     13\u001b[0m \u001b[0;32mfrom\u001b[0m \u001b[0;34m.\u001b[0m\u001b[0m_private\u001b[0m \u001b[0;32mimport\u001b[0m \u001b[0mextbuild\u001b[0m\u001b[0;34m\u001b[0m\u001b[0;34m\u001b[0m\u001b[0m\n",
      "\u001b[0;32m/opt/conda/lib/python3.9/site-packages/numpy/testing/_private/utils.py\u001b[0m in \u001b[0;36m<module>\u001b[0;34m\u001b[0m\n\u001b[1;32m    411\u001b[0m \u001b[0;34m\u001b[0m\u001b[0m\n\u001b[1;32m    412\u001b[0m \u001b[0;34m\u001b[0m\u001b[0m\n\u001b[0;32m--> 413\u001b[0;31m \u001b[0;34m@\u001b[0m\u001b[0mnp\u001b[0m\u001b[0;34m.\u001b[0m\u001b[0m_no_nep50_warning\u001b[0m\u001b[0;34m(\u001b[0m\u001b[0;34m)\u001b[0m\u001b[0;34m\u001b[0m\u001b[0;34m\u001b[0m\u001b[0m\n\u001b[0m\u001b[1;32m    414\u001b[0m \u001b[0;32mdef\u001b[0m \u001b[0massert_almost_equal\u001b[0m\u001b[0;34m(\u001b[0m\u001b[0mactual\u001b[0m\u001b[0;34m,\u001b[0m \u001b[0mdesired\u001b[0m\u001b[0;34m,\u001b[0m \u001b[0mdecimal\u001b[0m\u001b[0;34m=\u001b[0m\u001b[0;36m7\u001b[0m\u001b[0;34m,\u001b[0m \u001b[0merr_msg\u001b[0m\u001b[0;34m=\u001b[0m\u001b[0;34m''\u001b[0m\u001b[0;34m,\u001b[0m \u001b[0mverbose\u001b[0m\u001b[0;34m=\u001b[0m\u001b[0;32mTrue\u001b[0m\u001b[0;34m)\u001b[0m\u001b[0;34m:\u001b[0m\u001b[0;34m\u001b[0m\u001b[0;34m\u001b[0m\u001b[0m\n\u001b[1;32m    415\u001b[0m     \"\"\"\n",
      "\u001b[0;32m/opt/conda/lib/python3.9/site-packages/numpy/__init__.py\u001b[0m in \u001b[0;36m__getattr__\u001b[0;34m(attr)\u001b[0m\n\u001b[1;32m    313\u001b[0m             \u001b[0;31m# the AttributeError\u001b[0m\u001b[0;34m\u001b[0m\u001b[0;34m\u001b[0m\u001b[0m\n\u001b[1;32m    314\u001b[0m             warnings.warn(\n\u001b[0;32m--> 315\u001b[0;31m                 \u001b[0;34mf\"In the future `np.{attr}` will be defined as the \"\u001b[0m\u001b[0;34m\u001b[0m\u001b[0;34m\u001b[0m\u001b[0m\n\u001b[0m\u001b[1;32m    316\u001b[0m                 \"corresponding NumPy scalar.\", FutureWarning, stacklevel=2)\n\u001b[1;32m    317\u001b[0m \u001b[0;34m\u001b[0m\u001b[0m\n",
      "\u001b[0;31mAttributeError\u001b[0m: module 'numpy' has no attribute '_no_nep50_warning'"
     ]
    }
   ],
   "source": [
    "geo.explore()"
   ]
  },
  {
   "cell_type": "markdown",
   "metadata": {},
   "source": [
    "##### The attribute error returned after the above line of code: module 'numpy' has no attribute '_no_nep50_warning' has prevented the .explore function from working, and the rest of the tasks for this part can not be carried out. Therefore I did Part 4 in Google Colab and it is in the same notebook as Part 6 of this assignment."
   ]
  },
  {
   "cell_type": "markdown",
   "metadata": {},
   "source": [
    "### Part 5: Python Rasterio"
   ]
  },
  {
   "cell_type": "markdown",
   "metadata": {},
   "source": [
    "#### Task 1"
   ]
  },
  {
   "cell_type": "code",
   "execution_count": 4,
   "metadata": {},
   "outputs": [
    {
     "name": "stdout",
     "output_type": "stream",
     "text": [
      "Collecting earthpy\n",
      "  Downloading earthpy-0.9.4-py3-none-any.whl (1.4 MB)\n",
      "\u001b[2K     \u001b[90m━━━━━━━━━━━━━━━━━━━━━━━━━━━━━━━━━━━━━━━━\u001b[0m \u001b[32m1.4/1.4 MB\u001b[0m \u001b[31m31.1 MB/s\u001b[0m eta \u001b[36m0:00:00\u001b[0m00:01\u001b[0m\n",
      "\u001b[?25hRequirement already satisfied: rasterio in /opt/conda/lib/python3.9/site-packages (1.2.10)\n",
      "Collecting geopandas (from earthpy)\n",
      "  Obtaining dependency information for geopandas from https://files.pythonhosted.org/packages/3e/cf/ede993ed7070c5487e6db550aad490178c06eaa48ad26ff5e5263f995fba/geopandas-0.14.1-py3-none-any.whl.metadata\n",
      "  Downloading geopandas-0.14.1-py3-none-any.whl.metadata (1.5 kB)\n",
      "Requirement already satisfied: matplotlib>=2.0.0 in /opt/conda/lib/python3.9/site-packages (from earthpy) (3.6.0)\n",
      "Requirement already satisfied: numpy>=1.14.0 in /opt/conda/lib/python3.9/site-packages (from earthpy) (1.22.3)\n",
      "Requirement already satisfied: scikit-image in /opt/conda/lib/python3.9/site-packages (from earthpy) (0.19.3)\n",
      "Requirement already satisfied: requests in /opt/conda/lib/python3.9/site-packages (from earthpy) (2.31.0)\n",
      "Requirement already satisfied: affine in /opt/conda/lib/python3.9/site-packages (from rasterio) (2.3.0)\n",
      "Requirement already satisfied: attrs in /opt/conda/lib/python3.9/site-packages (from rasterio) (23.1.0)\n",
      "Requirement already satisfied: certifi in /opt/conda/lib/python3.9/site-packages (from rasterio) (2023.7.22)\n",
      "Requirement already satisfied: click>=4.0 in /opt/conda/lib/python3.9/site-packages (from rasterio) (8.0.4)\n",
      "Requirement already satisfied: cligj>=0.5 in /opt/conda/lib/python3.9/site-packages (from rasterio) (0.7.2)\n",
      "Requirement already satisfied: snuggs>=1.4.1 in /opt/conda/lib/python3.9/site-packages (from rasterio) (1.4.7)\n",
      "Requirement already satisfied: click-plugins in /opt/conda/lib/python3.9/site-packages (from rasterio) (1.1.1)\n",
      "Requirement already satisfied: setuptools in /opt/conda/lib/python3.9/site-packages (from rasterio) (68.0.0)\n",
      "Requirement already satisfied: contourpy>=1.0.1 in /opt/conda/lib/python3.9/site-packages (from matplotlib>=2.0.0->earthpy) (1.0.5)\n",
      "Requirement already satisfied: cycler>=0.10 in /opt/conda/lib/python3.9/site-packages (from matplotlib>=2.0.0->earthpy) (0.11.0)\n",
      "Requirement already satisfied: fonttools>=4.22.0 in /opt/conda/lib/python3.9/site-packages (from matplotlib>=2.0.0->earthpy) (4.25.0)\n",
      "Requirement already satisfied: kiwisolver>=1.0.1 in /opt/conda/lib/python3.9/site-packages (from matplotlib>=2.0.0->earthpy) (1.4.4)\n",
      "Requirement already satisfied: packaging>=20.0 in /opt/conda/lib/python3.9/site-packages (from matplotlib>=2.0.0->earthpy) (23.1)\n",
      "Requirement already satisfied: pillow>=6.2.0 in /opt/conda/lib/python3.9/site-packages (from matplotlib>=2.0.0->earthpy) (9.4.0)\n",
      "Requirement already satisfied: pyparsing>=2.2.1 in /opt/conda/lib/python3.9/site-packages (from matplotlib>=2.0.0->earthpy) (3.0.9)\n",
      "Requirement already satisfied: python-dateutil>=2.7 in /opt/conda/lib/python3.9/site-packages (from matplotlib>=2.0.0->earthpy) (2.8.2)\n",
      "Requirement already satisfied: fiona>=1.8.21 in /opt/conda/lib/python3.9/site-packages (from geopandas->earthpy) (1.8.21)\n",
      "Requirement already satisfied: pandas>=1.4.0 in /opt/conda/lib/python3.9/site-packages (from geopandas->earthpy) (2.0.2)\n",
      "Collecting pyproj>=3.3.0 (from geopandas->earthpy)\n",
      "  Obtaining dependency information for pyproj>=3.3.0 from https://files.pythonhosted.org/packages/97/0a/b1525be9680369cc06dd288e12c59d24d5798b4afcdcf1b0915836e1caa6/pyproj-3.6.1-cp39-cp39-manylinux_2_17_x86_64.manylinux2014_x86_64.whl.metadata\n",
      "  Downloading pyproj-3.6.1-cp39-cp39-manylinux_2_17_x86_64.manylinux2014_x86_64.whl.metadata (31 kB)\n",
      "Requirement already satisfied: shapely>=1.8.0 in /opt/conda/lib/python3.9/site-packages (from geopandas->earthpy) (2.0.1)\n",
      "Requirement already satisfied: charset-normalizer<4,>=2 in /opt/conda/lib/python3.9/site-packages (from requests->earthpy) (2.0.4)\n",
      "Requirement already satisfied: idna<4,>=2.5 in /opt/conda/lib/python3.9/site-packages (from requests->earthpy) (3.4)\n",
      "Requirement already satisfied: urllib3<3,>=1.21.1 in /opt/conda/lib/python3.9/site-packages (from requests->earthpy) (1.26.16)\n",
      "Requirement already satisfied: scipy>=1.4.1 in /opt/conda/lib/python3.9/site-packages (from scikit-image->earthpy) (1.9.3)\n",
      "Requirement already satisfied: networkx>=2.2 in /opt/conda/lib/python3.9/site-packages (from scikit-image->earthpy) (3.1)\n",
      "Requirement already satisfied: imageio>=2.4.1 in /opt/conda/lib/python3.9/site-packages (from scikit-image->earthpy) (2.31.4)\n",
      "Requirement already satisfied: tifffile>=2019.7.26 in /opt/conda/lib/python3.9/site-packages (from scikit-image->earthpy) (2023.4.12)\n",
      "Requirement already satisfied: PyWavelets>=1.1.1 in /opt/conda/lib/python3.9/site-packages (from scikit-image->earthpy) (1.4.1)\n",
      "Requirement already satisfied: six>=1.7 in /opt/conda/lib/python3.9/site-packages (from fiona>=1.8.21->geopandas->earthpy) (1.16.0)\n",
      "Requirement already satisfied: munch in /opt/conda/lib/python3.9/site-packages (from fiona>=1.8.21->geopandas->earthpy) (2.5.0)\n",
      "Requirement already satisfied: pytz>=2020.1 in /opt/conda/lib/python3.9/site-packages (from pandas>=1.4.0->geopandas->earthpy) (2023.3.post1)\n",
      "Collecting tzdata>=2022.1 (from pandas>=1.4.0->geopandas->earthpy)\n",
      "  Downloading tzdata-2023.3-py2.py3-none-any.whl (341 kB)\n",
      "\u001b[2K     \u001b[90m━━━━━━━━━━━━━━━━━━━━━━━━━━━━━━━━━━━━━━\u001b[0m \u001b[32m341.8/341.8 kB\u001b[0m \u001b[31m33.9 MB/s\u001b[0m eta \u001b[36m0:00:00\u001b[0m\n",
      "\u001b[?25hDownloading geopandas-0.14.1-py3-none-any.whl (1.1 MB)\n",
      "\u001b[2K   \u001b[90m━━━━━━━━━━━━━━━━━━━━━━━━━━━━━━━━━━━━━━━━\u001b[0m \u001b[32m1.1/1.1 MB\u001b[0m \u001b[31m50.7 MB/s\u001b[0m eta \u001b[36m0:00:00\u001b[0m\n",
      "\u001b[?25hDownloading pyproj-3.6.1-cp39-cp39-manylinux_2_17_x86_64.manylinux2014_x86_64.whl (8.3 MB)\n",
      "\u001b[2K   \u001b[90m━━━━━━━━━━━━━━━━━━━━━━━━━━━━━━━━━━━━━━━━\u001b[0m \u001b[32m8.3/8.3 MB\u001b[0m \u001b[31m87.4 MB/s\u001b[0m eta \u001b[36m0:00:00\u001b[0m:00:01\u001b[0m00:01\u001b[0m\n",
      "\u001b[?25hInstalling collected packages: tzdata, pyproj, geopandas, earthpy\n",
      "\u001b[31mERROR: pip's dependency resolver does not currently take into account all the packages that are installed. This behaviour is the source of the following dependency conflicts.\n",
      "torch-geometric 1.7.2 requires python-louvain, which is not installed.\u001b[0m\u001b[31m\n",
      "\u001b[0mSuccessfully installed earthpy-0.9.4 geopandas-0.14.1 pyproj-3.6.1 tzdata-2023.3\n",
      "Note: you may need to restart the kernel to use updated packages.\n"
     ]
    }
   ],
   "source": [
    "pip install earthpy rasterio"
   ]
  },
  {
   "cell_type": "code",
   "execution_count": 5,
   "metadata": {},
   "outputs": [],
   "source": [
    "import rasterio as rio\n",
    "from rasterio import plot\n",
    "import zipfile\n",
    "import os\n",
    "import numpy as np\n",
    "import pandas as pd\n",
    "import matplotlib.pyplot as plt\n",
    "%matplotlib inline"
   ]
  },
  {
   "cell_type": "markdown",
   "metadata": {},
   "source": [
    "##### The cell above imports libraries."
   ]
  },
  {
   "cell_type": "code",
   "execution_count": 6,
   "metadata": {},
   "outputs": [],
   "source": [
    "elev = rio.open('/arcgis/home/elev.tif')"
   ]
  },
  {
   "cell_type": "markdown",
   "metadata": {},
   "source": [
    "##### The cell above reads the file as a rasterio dataset and names it \"elev\". "
   ]
  },
  {
   "cell_type": "code",
   "execution_count": 15,
   "metadata": {},
   "outputs": [
    {
     "data": {
      "text/plain": [
       "CRS.from_epsg(32617)"
      ]
     },
     "execution_count": 15,
     "metadata": {},
     "output_type": "execute_result"
    }
   ],
   "source": [
    "elev.crs"
   ]
  },
  {
   "cell_type": "markdown",
   "metadata": {},
   "source": [
    "##### The cell above finds the CRS of the dataset, which resulted in CRS>from_epsg(32617)."
   ]
  },
  {
   "cell_type": "code",
   "execution_count": 7,
   "metadata": {},
   "outputs": [
    {
     "name": "stdout",
     "output_type": "stream",
     "text": [
      "BoundingBox(left=479753.39945587853, bottom=4170823.2037591375, right=668843.3994558785, top=4347733.203759138)\n",
      "EPSG:32617\n",
      "1\n"
     ]
    }
   ],
   "source": [
    "print(elev.bounds)\n",
    "print(elev.crs)\n",
    "print(elev.count)"
   ]
  },
  {
   "cell_type": "markdown",
   "metadata": {},
   "source": [
    "##### The first line in the cell above finds the bounds/ extent to the raster dataset. The second line produces the reference system for the raster which is EPSG:32617. The third line produces the number of bands that the raster contains. As a result, the dataset contains 1 band."
   ]
  },
  {
   "cell_type": "code",
   "execution_count": 19,
   "metadata": {},
   "outputs": [
    {
     "data": {
      "text/plain": [
       "array([[-32768, -32768, -32768, ..., -32768, -32768, -32768],\n",
       "       [-32768, -32768, -32768, ..., -32768, -32768, -32768],\n",
       "       [-32768, -32768, -32768, ..., -32768, -32768, -32768],\n",
       "       ...,\n",
       "       [-32768, -32768, -32768, ..., -32768, -32768, -32768],\n",
       "       [-32768, -32768, -32768, ..., -32768, -32768, -32768],\n",
       "       [-32768, -32768, -32768, ..., -32768, -32768, -32768]], dtype=int16)"
      ]
     },
     "execution_count": 19,
     "metadata": {},
     "output_type": "execute_result"
    }
   ],
   "source": [
    "elev_arr = elev.read(1)\n",
    "elev_arr"
   ]
  },
  {
   "cell_type": "markdown",
   "metadata": {},
   "source": [
    "##### The cell above reads the raster dataset as an array, and creates a new varaible where this array is stored (called elev_arr). Now that the raster is stored as an array, NumPy operations can be used on it. "
   ]
  },
  {
   "cell_type": "code",
   "execution_count": 20,
   "metadata": {},
   "outputs": [
    {
     "data": {
      "text/plain": [
       "<matplotlib.image.AxesImage at 0x7fd5dbae4c70>"
      ]
     },
     "execution_count": 20,
     "metadata": {},
     "output_type": "execute_result"
    },
    {
     "data": {
      "image/png": "[encoded data removed]",
      "text/plain": [
       "<Figure size 1000x800 with 1 Axes>"
      ]
     },
     "metadata": {},
     "output_type": "display_data"
    }
   ],
   "source": [
    "image_read_masked = np.ma.masked_array(elev_arr, mask=(elev_arr == 0))\n",
    "plt.rcParams['figure.figsize'] = [10, 8]\n",
    "plt.imshow(image_read_masked)"
   ]
  },
  {
   "cell_type": "markdown",
   "metadata": {},
   "source": [
    "##### The first line in the cell above masks invalid or missing values from the array so that they aren't used when manipulating the data. Using plt.imshow creates a map of the raster (specifically using the raster that masks out the invalid and missing values). The second line of code in the cell above creates the guidelines for the shape of the map that is produced."
   ]
  },
  {
   "cell_type": "code",
   "execution_count": 21,
   "metadata": {},
   "outputs": [
    {
     "name": "stdout",
     "output_type": "stream",
     "text": [
      "Requirement already satisfied: earthpy in /opt/conda/lib/python3.9/site-packages (0.9.4)\n",
      "Requirement already satisfied: geopandas in /opt/conda/lib/python3.9/site-packages (from earthpy) (0.14.1)\n",
      "Requirement already satisfied: matplotlib>=2.0.0 in /opt/conda/lib/python3.9/site-packages (from earthpy) (3.6.0)\n",
      "Requirement already satisfied: numpy>=1.14.0 in /opt/conda/lib/python3.9/site-packages (from earthpy) (1.25.2)\n",
      "Requirement already satisfied: rasterio in /opt/conda/lib/python3.9/site-packages (from earthpy) (1.2.10)\n",
      "Requirement already satisfied: scikit-image in /opt/conda/lib/python3.9/site-packages (from earthpy) (0.19.3)\n",
      "Requirement already satisfied: requests in /opt/conda/lib/python3.9/site-packages (from earthpy) (2.31.0)\n",
      "Requirement already satisfied: contourpy>=1.0.1 in /opt/conda/lib/python3.9/site-packages (from matplotlib>=2.0.0->earthpy) (1.0.5)\n",
      "Requirement already satisfied: cycler>=0.10 in /opt/conda/lib/python3.9/site-packages (from matplotlib>=2.0.0->earthpy) (0.11.0)\n",
      "Requirement already satisfied: fonttools>=4.22.0 in /opt/conda/lib/python3.9/site-packages (from matplotlib>=2.0.0->earthpy) (4.25.0)\n",
      "Requirement already satisfied: kiwisolver>=1.0.1 in /opt/conda/lib/python3.9/site-packages (from matplotlib>=2.0.0->earthpy) (1.4.4)\n",
      "Requirement already satisfied: packaging>=20.0 in /opt/conda/lib/python3.9/site-packages (from matplotlib>=2.0.0->earthpy) (23.1)\n",
      "Requirement already satisfied: pillow>=6.2.0 in /opt/conda/lib/python3.9/site-packages (from matplotlib>=2.0.0->earthpy) (9.4.0)\n",
      "Requirement already satisfied: pyparsing>=2.2.1 in /opt/conda/lib/python3.9/site-packages (from matplotlib>=2.0.0->earthpy) (3.0.9)\n",
      "Requirement already satisfied: python-dateutil>=2.7 in /opt/conda/lib/python3.9/site-packages (from matplotlib>=2.0.0->earthpy) (2.8.2)\n",
      "Requirement already satisfied: fiona>=1.8.21 in /opt/conda/lib/python3.9/site-packages (from geopandas->earthpy) (1.8.21)\n",
      "Requirement already satisfied: pandas>=1.4.0 in /opt/conda/lib/python3.9/site-packages (from geopandas->earthpy) (2.0.2)\n",
      "Requirement already satisfied: pyproj>=3.3.0 in /opt/conda/lib/python3.9/site-packages (from geopandas->earthpy) (3.6.1)\n",
      "Requirement already satisfied: shapely>=1.8.0 in /opt/conda/lib/python3.9/site-packages (from geopandas->earthpy) (2.0.1)\n",
      "Requirement already satisfied: affine in /opt/conda/lib/python3.9/site-packages (from rasterio->earthpy) (2.3.0)\n",
      "Requirement already satisfied: attrs in /opt/conda/lib/python3.9/site-packages (from rasterio->earthpy) (23.1.0)\n",
      "Requirement already satisfied: certifi in /opt/conda/lib/python3.9/site-packages (from rasterio->earthpy) (2023.7.22)\n",
      "Requirement already satisfied: click>=4.0 in /opt/conda/lib/python3.9/site-packages (from rasterio->earthpy) (8.0.4)\n",
      "Requirement already satisfied: cligj>=0.5 in /opt/conda/lib/python3.9/site-packages (from rasterio->earthpy) (0.7.2)\n",
      "Requirement already satisfied: snuggs>=1.4.1 in /opt/conda/lib/python3.9/site-packages (from rasterio->earthpy) (1.4.7)\n",
      "Requirement already satisfied: click-plugins in /opt/conda/lib/python3.9/site-packages (from rasterio->earthpy) (1.1.1)\n",
      "Requirement already satisfied: setuptools in /opt/conda/lib/python3.9/site-packages (from rasterio->earthpy) (68.0.0)\n",
      "Requirement already satisfied: charset-normalizer<4,>=2 in /opt/conda/lib/python3.9/site-packages (from requests->earthpy) (2.0.4)\n",
      "Requirement already satisfied: idna<4,>=2.5 in /opt/conda/lib/python3.9/site-packages (from requests->earthpy) (3.4)\n",
      "Requirement already satisfied: urllib3<3,>=1.21.1 in /opt/conda/lib/python3.9/site-packages (from requests->earthpy) (1.26.16)\n",
      "Requirement already satisfied: scipy>=1.4.1 in /opt/conda/lib/python3.9/site-packages (from scikit-image->earthpy) (1.9.3)\n",
      "Requirement already satisfied: networkx>=2.2 in /opt/conda/lib/python3.9/site-packages (from scikit-image->earthpy) (3.1)\n",
      "Requirement already satisfied: imageio>=2.4.1 in /opt/conda/lib/python3.9/site-packages (from scikit-image->earthpy) (2.31.4)\n",
      "Requirement already satisfied: tifffile>=2019.7.26 in /opt/conda/lib/python3.9/site-packages (from scikit-image->earthpy) (2023.4.12)\n",
      "Requirement already satisfied: PyWavelets>=1.1.1 in /opt/conda/lib/python3.9/site-packages (from scikit-image->earthpy) (1.4.1)\n",
      "Requirement already satisfied: six>=1.7 in /opt/conda/lib/python3.9/site-packages (from fiona>=1.8.21->geopandas->earthpy) (1.16.0)\n",
      "Requirement already satisfied: munch in /opt/conda/lib/python3.9/site-packages (from fiona>=1.8.21->geopandas->earthpy) (2.5.0)\n",
      "Requirement already satisfied: pytz>=2020.1 in /opt/conda/lib/python3.9/site-packages (from pandas>=1.4.0->geopandas->earthpy) (2023.3.post1)\n",
      "Requirement already satisfied: tzdata>=2022.1 in /opt/conda/lib/python3.9/site-packages (from pandas>=1.4.0->geopandas->earthpy) (2023.3)\n",
      "Note: you may need to restart the kernel to use updated packages.\n"
     ]
    }
   ],
   "source": [
    "pip install earthpy"
   ]
  },
  {
   "cell_type": "markdown",
   "metadata": {},
   "source": [
    "##### The cell above installs the earthpy package."
   ]
  },
  {
   "cell_type": "code",
   "execution_count": 22,
   "metadata": {},
   "outputs": [],
   "source": [
    "import earthpy as et\n",
    "import earthpy.plot as ep"
   ]
  },
  {
   "cell_type": "markdown",
   "metadata": {},
   "source": [
    "##### The cell above imports libraries from the earthpy package. "
   ]
  },
  {
   "cell_type": "code",
   "execution_count": 18,
   "metadata": {
    "scrolled": false
   },
   "outputs": [
    {
     "data": {
      "image/png": "[encoded data removed]",
      "text/plain": [
       "<Figure size 1200x1200 with 1 Axes>"
      ]
     },
     "metadata": {},
     "output_type": "display_data"
    }
   ],
   "source": [
    "ep.hist(elev_arr)\n",
    "plt.show()"
   ]
  },
  {
   "cell_type": "markdown",
   "metadata": {},
   "source": [
    "##### In the cell above, a histogram is created from the raster dataset array, using the ep.hist function. "
   ]
  }
 ],
 "metadata": {
  "esriNotebookRuntime": {
   "notebookRuntimeName": "ArcGIS Notebook Python 3 Standard",
   "notebookRuntimeVersion": "9.0"
  },
  "kernelspec": {
   "display_name": "Python 3 (ipykernel)",
   "language": "python",
   "name": "python3"
  },
  "language_info": {
   "codemirror_mode": {
    "name": "ipython",
    "version": 3
   },
   "file_extension": ".py",
   "mimetype": "text/x-python",
   "name": "python",
   "nbconvert_exporter": "python",
   "pygments_lexer": "ipython3",
   "version": "3.9.18"
  }
 },
 "nbformat": 4,
 "nbformat_minor": 2
}
